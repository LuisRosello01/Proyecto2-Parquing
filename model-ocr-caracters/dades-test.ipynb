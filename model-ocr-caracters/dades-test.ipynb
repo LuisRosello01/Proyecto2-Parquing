{
 "cells": [
  {
   "cell_type": "code",
   "execution_count": 60,
   "metadata": {},
   "outputs": [],
   "source": [
    "import cv2\n",
    "import numpy as np\n",
    "from PIL import Image, ImageDraw, ImageFont\n",
    "import random\n",
    "from matplotlib import pyplot as plt\n",
    "\n",
    "# Configuración de la imagen\n",
    "ANCHO = 50\n",
    "ALTO = 50  \n",
    "\n",
    "# Tipografía similar a la de matrículas (puedes buscar una más precisa)\n",
    "FUENTE_PATH = \"../font/DIN1451-36breit.ttf\""
   ]
  },
  {
   "cell_type": "code",
   "execution_count": 118,
   "metadata": {},
   "outputs": [],
   "source": [
    "def img_caracter_aleatori():\n",
    "    # Generar un caràcter aleatori\n",
    "    caracter_aleatori = random.choice('ABCDEFGHIJKLMNOPQRSTUVWXYZ0123456789')\n",
    "\n",
    "    # Crear un fondo blanco con ruido gris\n",
    "    ruido = np.random.randint(200, 255, (ALTO, ANCHO), dtype=np.uint8)  # Valores entre 200 y 255 para tonos grises claros\n",
    "    img = Image.fromarray(ruido, mode='L').convert('RGB')  # Convertir a RGB\n",
    "    draw = ImageDraw.Draw(img)\n",
    "\n",
    "    # Carregar la font\n",
    "    font = ImageFont.truetype(FUENTE_PATH, 42)\n",
    "\n",
    "    # Escriure el caràcter aleatori al centre de la imatge\n",
    "    text_bbox = draw.textbbox((0, 0), caracter_aleatori, font=font)\n",
    "    text_width = text_bbox[2] - text_bbox[0]\n",
    "    text_height = text_bbox[3] - text_bbox[1]\n",
    "    x = (ANCHO - text_width) // 2\n",
    "    y = (ALTO - text_height) // 4\n",
    "    draw.text((x, y), caracter_aleatori, fill='black', font=font)\n",
    "\n",
    "    return img"
   ]
  },
  {
   "cell_type": "code",
   "execution_count": 119,
   "metadata": {},
   "outputs": [
    {
     "data": {
      "image/png": "[encoded data removed]",
      "text/plain": [
       "<Figure size 640x480 with 1 Axes>"
      ]
     },
     "metadata": {},
     "output_type": "display_data"
    }
   ],
   "source": [
    "img = img_caracter_aleatori()\n",
    "\n",
    "# Mostrar la imatge\n",
    "plt.imshow(np.array(img))\n",
    "plt.axis('off')\n",
    "plt.show()"
   ]
  }
 ],
 "metadata": {
  "kernelspec": {
   "display_name": ".venv",
   "language": "python",
   "name": "python3"
  },
  "language_info": {
   "codemirror_mode": {
    "name": "ipython",
    "version": 3
   },
   "file_extension": ".py",
   "mimetype": "text/x-python",
   "name": "python",
   "nbconvert_exporter": "python",
   "pygments_lexer": "ipython3",
   "version": "3.12.1"
  }
 },
 "nbformat": 4,
 "nbformat_minor": 2
}
