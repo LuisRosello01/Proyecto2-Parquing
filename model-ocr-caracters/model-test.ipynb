{
 "cells": [
  {
   "cell_type": "code",
   "execution_count": 4,
   "metadata": {},
   "outputs": [],
   "source": [
    "import os\n",
    "import numpy as np\n",
    "import tensorflow as tf\n",
    "from tensorflow.keras import layers, models, optimizers, Model\n",
    "from tensorflow.keras.preprocessing.image import img_to_array, load_img\n",
    "from sklearn.model_selection import train_test_split\n",
    "import matplotlib.pyplot as plt"
   ]
  },
  {
   "cell_type": "code",
   "execution_count": 32,
   "metadata": {},
   "outputs": [
    {
     "data": {
      "text/html": [
       "<pre style=\"white-space:pre;overflow-x:auto;line-height:normal;font-family:Menlo,'DejaVu Sans Mono',consolas,'Courier New',monospace\"><span style=\"font-weight: bold\">Model: \"functional_1\"</span>\n",
       "</pre>\n"
      ],
      "text/plain": [
       "\u001b[1mModel: \"functional_1\"\u001b[0m\n"
      ]
     },
     "metadata": {},
     "output_type": "display_data"
    },
    {
     "data": {
      "text/html": [
       "<pre style=\"white-space:pre;overflow-x:auto;line-height:normal;font-family:Menlo,'DejaVu Sans Mono',consolas,'Courier New',monospace\">┏━━━━━━━━━━━━━━━━━━━━━━━━━━━━━━━━━┳━━━━━━━━━━━━━━━━━━━━━━━━┳━━━━━━━━━━━━━━━┓\n",
       "┃<span style=\"font-weight: bold\"> Layer (type)                    </span>┃<span style=\"font-weight: bold\"> Output Shape           </span>┃<span style=\"font-weight: bold\">       Param # </span>┃\n",
       "┡━━━━━━━━━━━━━━━━━━━━━━━━━━━━━━━━━╇━━━━━━━━━━━━━━━━━━━━━━━━╇━━━━━━━━━━━━━━━┩\n",
       "│ input_layer_3 (<span style=\"color: #0087ff; text-decoration-color: #0087ff\">InputLayer</span>)      │ (<span style=\"color: #00d7ff; text-decoration-color: #00d7ff\">None</span>, <span style=\"color: #00af00; text-decoration-color: #00af00\">64</span>, <span style=\"color: #00af00; text-decoration-color: #00af00\">128</span>, <span style=\"color: #00af00; text-decoration-color: #00af00\">1</span>)     │             <span style=\"color: #00af00; text-decoration-color: #00af00\">0</span> │\n",
       "├─────────────────────────────────┼────────────────────────┼───────────────┤\n",
       "│ conv2d_9 (<span style=\"color: #0087ff; text-decoration-color: #0087ff\">Conv2D</span>)               │ (<span style=\"color: #00d7ff; text-decoration-color: #00d7ff\">None</span>, <span style=\"color: #00af00; text-decoration-color: #00af00\">64</span>, <span style=\"color: #00af00; text-decoration-color: #00af00\">128</span>, <span style=\"color: #00af00; text-decoration-color: #00af00\">64</span>)    │           <span style=\"color: #00af00; text-decoration-color: #00af00\">640</span> │\n",
       "├─────────────────────────────────┼────────────────────────┼───────────────┤\n",
       "│ max_pooling2d_6 (<span style=\"color: #0087ff; text-decoration-color: #0087ff\">MaxPooling2D</span>)  │ (<span style=\"color: #00d7ff; text-decoration-color: #00d7ff\">None</span>, <span style=\"color: #00af00; text-decoration-color: #00af00\">32</span>, <span style=\"color: #00af00; text-decoration-color: #00af00\">64</span>, <span style=\"color: #00af00; text-decoration-color: #00af00\">64</span>)     │             <span style=\"color: #00af00; text-decoration-color: #00af00\">0</span> │\n",
       "├─────────────────────────────────┼────────────────────────┼───────────────┤\n",
       "│ conv2d_10 (<span style=\"color: #0087ff; text-decoration-color: #0087ff\">Conv2D</span>)              │ (<span style=\"color: #00d7ff; text-decoration-color: #00d7ff\">None</span>, <span style=\"color: #00af00; text-decoration-color: #00af00\">32</span>, <span style=\"color: #00af00; text-decoration-color: #00af00\">64</span>, <span style=\"color: #00af00; text-decoration-color: #00af00\">128</span>)    │        <span style=\"color: #00af00; text-decoration-color: #00af00\">73,856</span> │\n",
       "├─────────────────────────────────┼────────────────────────┼───────────────┤\n",
       "│ max_pooling2d_7 (<span style=\"color: #0087ff; text-decoration-color: #0087ff\">MaxPooling2D</span>)  │ (<span style=\"color: #00d7ff; text-decoration-color: #00d7ff\">None</span>, <span style=\"color: #00af00; text-decoration-color: #00af00\">16</span>, <span style=\"color: #00af00; text-decoration-color: #00af00\">32</span>, <span style=\"color: #00af00; text-decoration-color: #00af00\">128</span>)    │             <span style=\"color: #00af00; text-decoration-color: #00af00\">0</span> │\n",
       "├─────────────────────────────────┼────────────────────────┼───────────────┤\n",
       "│ conv2d_11 (<span style=\"color: #0087ff; text-decoration-color: #0087ff\">Conv2D</span>)              │ (<span style=\"color: #00d7ff; text-decoration-color: #00d7ff\">None</span>, <span style=\"color: #00af00; text-decoration-color: #00af00\">16</span>, <span style=\"color: #00af00; text-decoration-color: #00af00\">32</span>, <span style=\"color: #00af00; text-decoration-color: #00af00\">256</span>)    │       <span style=\"color: #00af00; text-decoration-color: #00af00\">295,168</span> │\n",
       "├─────────────────────────────────┼────────────────────────┼───────────────┤\n",
       "│ reshape_3 (<span style=\"color: #0087ff; text-decoration-color: #0087ff\">Reshape</span>)             │ (<span style=\"color: #00d7ff; text-decoration-color: #00d7ff\">None</span>, <span style=\"color: #00af00; text-decoration-color: #00af00\">16</span>, <span style=\"color: #00af00; text-decoration-color: #00af00\">8192</span>)       │             <span style=\"color: #00af00; text-decoration-color: #00af00\">0</span> │\n",
       "├─────────────────────────────────┼────────────────────────┼───────────────┤\n",
       "│ bidirectional_6 (<span style=\"color: #0087ff; text-decoration-color: #0087ff\">Bidirectional</span>) │ (<span style=\"color: #00d7ff; text-decoration-color: #00d7ff\">None</span>, <span style=\"color: #00af00; text-decoration-color: #00af00\">16</span>, <span style=\"color: #00af00; text-decoration-color: #00af00\">256</span>)        │     <span style=\"color: #00af00; text-decoration-color: #00af00\">8,520,704</span> │\n",
       "├─────────────────────────────────┼────────────────────────┼───────────────┤\n",
       "│ bidirectional_7 (<span style=\"color: #0087ff; text-decoration-color: #0087ff\">Bidirectional</span>) │ (<span style=\"color: #00d7ff; text-decoration-color: #00d7ff\">None</span>, <span style=\"color: #00af00; text-decoration-color: #00af00\">16</span>, <span style=\"color: #00af00; text-decoration-color: #00af00\">256</span>)        │       <span style=\"color: #00af00; text-decoration-color: #00af00\">394,240</span> │\n",
       "├─────────────────────────────────┼────────────────────────┼───────────────┤\n",
       "│ dense_3 (<span style=\"color: #0087ff; text-decoration-color: #0087ff\">Dense</span>)                 │ (<span style=\"color: #00d7ff; text-decoration-color: #00d7ff\">None</span>, <span style=\"color: #00af00; text-decoration-color: #00af00\">16</span>, <span style=\"color: #00af00; text-decoration-color: #00af00\">37</span>)         │         <span style=\"color: #00af00; text-decoration-color: #00af00\">9,509</span> │\n",
       "└─────────────────────────────────┴────────────────────────┴───────────────┘\n",
       "</pre>\n"
      ],
      "text/plain": [
       "┏━━━━━━━━━━━━━━━━━━━━━━━━━━━━━━━━━┳━━━━━━━━━━━━━━━━━━━━━━━━┳━━━━━━━━━━━━━━━┓\n",
       "┃\u001b[1m \u001b[0m\u001b[1mLayer (type)                   \u001b[0m\u001b[1m \u001b[0m┃\u001b[1m \u001b[0m\u001b[1mOutput Shape          \u001b[0m\u001b[1m \u001b[0m┃\u001b[1m \u001b[0m\u001b[1m      Param #\u001b[0m\u001b[1m \u001b[0m┃\n",
       "┡━━━━━━━━━━━━━━━━━━━━━━━━━━━━━━━━━╇━━━━━━━━━━━━━━━━━━━━━━━━╇━━━━━━━━━━━━━━━┩\n",
       "│ input_layer_3 (\u001b[38;5;33mInputLayer\u001b[0m)      │ (\u001b[38;5;45mNone\u001b[0m, \u001b[38;5;34m64\u001b[0m, \u001b[38;5;34m128\u001b[0m, \u001b[38;5;34m1\u001b[0m)     │             \u001b[38;5;34m0\u001b[0m │\n",
       "├─────────────────────────────────┼────────────────────────┼───────────────┤\n",
       "│ conv2d_9 (\u001b[38;5;33mConv2D\u001b[0m)               │ (\u001b[38;5;45mNone\u001b[0m, \u001b[38;5;34m64\u001b[0m, \u001b[38;5;34m128\u001b[0m, \u001b[38;5;34m64\u001b[0m)    │           \u001b[38;5;34m640\u001b[0m │\n",
       "├─────────────────────────────────┼────────────────────────┼───────────────┤\n",
       "│ max_pooling2d_6 (\u001b[38;5;33mMaxPooling2D\u001b[0m)  │ (\u001b[38;5;45mNone\u001b[0m, \u001b[38;5;34m32\u001b[0m, \u001b[38;5;34m64\u001b[0m, \u001b[38;5;34m64\u001b[0m)     │             \u001b[38;5;34m0\u001b[0m │\n",
       "├─────────────────────────────────┼────────────────────────┼───────────────┤\n",
       "│ conv2d_10 (\u001b[38;5;33mConv2D\u001b[0m)              │ (\u001b[38;5;45mNone\u001b[0m, \u001b[38;5;34m32\u001b[0m, \u001b[38;5;34m64\u001b[0m, \u001b[38;5;34m128\u001b[0m)    │        \u001b[38;5;34m73,856\u001b[0m │\n",
       "├─────────────────────────────────┼────────────────────────┼───────────────┤\n",
       "│ max_pooling2d_7 (\u001b[38;5;33mMaxPooling2D\u001b[0m)  │ (\u001b[38;5;45mNone\u001b[0m, \u001b[38;5;34m16\u001b[0m, \u001b[38;5;34m32\u001b[0m, \u001b[38;5;34m128\u001b[0m)    │             \u001b[38;5;34m0\u001b[0m │\n",
       "├─────────────────────────────────┼────────────────────────┼───────────────┤\n",
       "│ conv2d_11 (\u001b[38;5;33mConv2D\u001b[0m)              │ (\u001b[38;5;45mNone\u001b[0m, \u001b[38;5;34m16\u001b[0m, \u001b[38;5;34m32\u001b[0m, \u001b[38;5;34m256\u001b[0m)    │       \u001b[38;5;34m295,168\u001b[0m │\n",
       "├─────────────────────────────────┼────────────────────────┼───────────────┤\n",
       "│ reshape_3 (\u001b[38;5;33mReshape\u001b[0m)             │ (\u001b[38;5;45mNone\u001b[0m, \u001b[38;5;34m16\u001b[0m, \u001b[38;5;34m8192\u001b[0m)       │             \u001b[38;5;34m0\u001b[0m │\n",
       "├─────────────────────────────────┼────────────────────────┼───────────────┤\n",
       "│ bidirectional_6 (\u001b[38;5;33mBidirectional\u001b[0m) │ (\u001b[38;5;45mNone\u001b[0m, \u001b[38;5;34m16\u001b[0m, \u001b[38;5;34m256\u001b[0m)        │     \u001b[38;5;34m8,520,704\u001b[0m │\n",
       "├─────────────────────────────────┼────────────────────────┼───────────────┤\n",
       "│ bidirectional_7 (\u001b[38;5;33mBidirectional\u001b[0m) │ (\u001b[38;5;45mNone\u001b[0m, \u001b[38;5;34m16\u001b[0m, \u001b[38;5;34m256\u001b[0m)        │       \u001b[38;5;34m394,240\u001b[0m │\n",
       "├─────────────────────────────────┼────────────────────────┼───────────────┤\n",
       "│ dense_3 (\u001b[38;5;33mDense\u001b[0m)                 │ (\u001b[38;5;45mNone\u001b[0m, \u001b[38;5;34m16\u001b[0m, \u001b[38;5;34m37\u001b[0m)         │         \u001b[38;5;34m9,509\u001b[0m │\n",
       "└─────────────────────────────────┴────────────────────────┴───────────────┘\n"
      ]
     },
     "metadata": {},
     "output_type": "display_data"
    },
    {
     "data": {
      "text/html": [
       "<pre style=\"white-space:pre;overflow-x:auto;line-height:normal;font-family:Menlo,'DejaVu Sans Mono',consolas,'Courier New',monospace\"><span style=\"font-weight: bold\"> Total params: </span><span style=\"color: #00af00; text-decoration-color: #00af00\">9,294,117</span> (35.45 MB)\n",
       "</pre>\n"
      ],
      "text/plain": [
       "\u001b[1m Total params: \u001b[0m\u001b[38;5;34m9,294,117\u001b[0m (35.45 MB)\n"
      ]
     },
     "metadata": {},
     "output_type": "display_data"
    },
    {
     "data": {
      "text/html": [
       "<pre style=\"white-space:pre;overflow-x:auto;line-height:normal;font-family:Menlo,'DejaVu Sans Mono',consolas,'Courier New',monospace\"><span style=\"font-weight: bold\"> Trainable params: </span><span style=\"color: #00af00; text-decoration-color: #00af00\">9,294,117</span> (35.45 MB)\n",
       "</pre>\n"
      ],
      "text/plain": [
       "\u001b[1m Trainable params: \u001b[0m\u001b[38;5;34m9,294,117\u001b[0m (35.45 MB)\n"
      ]
     },
     "metadata": {},
     "output_type": "display_data"
    },
    {
     "data": {
      "text/html": [
       "<pre style=\"white-space:pre;overflow-x:auto;line-height:normal;font-family:Menlo,'DejaVu Sans Mono',consolas,'Courier New',monospace\"><span style=\"font-weight: bold\"> Non-trainable params: </span><span style=\"color: #00af00; text-decoration-color: #00af00\">0</span> (0.00 B)\n",
       "</pre>\n"
      ],
      "text/plain": [
       "\u001b[1m Non-trainable params: \u001b[0m\u001b[38;5;34m0\u001b[0m (0.00 B)\n"
      ]
     },
     "metadata": {},
     "output_type": "display_data"
    }
   ],
   "source": [
    "img_width = 128\n",
    "img_height = 64\n",
    "num_classes = 36\n",
    "\n",
    "# The issue is in the input shape configuration\n",
    "# Our model expects (img_height, img_width, 1) but images are loaded as (img_width, img_height, 1)\n",
    "# Let's correct the model definition:\n",
    "\n",
    "inputs = layers.Input(shape=(img_height, img_width, 1))\n",
    "\n",
    "# CNN for feature extraction\n",
    "x = layers.Conv2D(64, (3,3), activation=\"relu\", padding=\"same\")(inputs)\n",
    "x = layers.MaxPooling2D((2,2))(x)\n",
    "x = layers.Conv2D(128, (3,3), activation=\"relu\", padding=\"same\")(x)\n",
    "x = layers.MaxPooling2D((2,2))(x)\n",
    "x = layers.Conv2D(256, (3,3), activation=\"relu\", padding=\"same\")(x)\n",
    "\n",
    "# RNN for sequence processing - adjusted dimensions\n",
    "x = layers.Reshape((img_height//4, img_width//4 * 256))(x)\n",
    "x = layers.Bidirectional(layers.LSTM(128, return_sequences=True))(x)\n",
    "x = layers.Bidirectional(layers.LSTM(128, return_sequences=True))(x)\n",
    "\n",
    "# Dense layer for character classification\n",
    "x = layers.Dense(num_classes + 1, activation=\"softmax\")(x)  # +1 for CTC blank token\n",
    "\n",
    "model = Model(inputs, x)\n",
    "\n",
    "model.summary()"
   ]
  },
  {
   "cell_type": "code",
   "execution_count": 33,
   "metadata": {},
   "outputs": [
    {
     "data": {
      "text/plain": [
       "(True, 'Encontrados 36 caracteres, modelo configurado para 36')"
      ]
     },
     "execution_count": 33,
     "metadata": {},
     "output_type": "execute_result"
    }
   ],
   "source": [
    "data_dir = 'dades'\n",
    "\n",
    "# Crear diccionario para mapear caracteres a índices\n",
    "characters = []\n",
    "for folder in sorted(os.listdir(data_dir)):\n",
    "    if os.path.isdir(os.path.join(data_dir, folder)):\n",
    "        characters.append(folder)\n",
    "\n",
    "# Asegurar que tenemos el número esperado de clases\n",
    "len(characters) <= num_classes, f\"Encontrados {len(characters)} caracteres, modelo configurado para {num_classes}\""
   ]
  },
  {
   "cell_type": "code",
   "execution_count": 34,
   "metadata": {},
   "outputs": [],
   "source": [
    "# Cargar imágenes y etiquetas\n",
    "images = []\n",
    "labels = []\n",
    "\n",
    "for idx, char_folder in enumerate(characters):\n",
    "    char_path = os.path.join(data_dir, char_folder)\n",
    "    for img_file in os.listdir(char_path):\n",
    "        if img_file.endswith(('.png', '.jpg', '.jpeg')):\n",
    "            img_path = os.path.join(char_path, img_file)\n",
    "            try:\n",
    "                # Cargar imagen en escala de grises\n",
    "                img = load_img(img_path, color_mode='grayscale', target_size=(img_width, img_height))\n",
    "                img_array = img_to_array(img) / 255.0  # Normalizar\n",
    "                images.append(img_array)\n",
    "                labels.append(idx)  # Usar índice como etiqueta\n",
    "            except Exception as e:\n",
    "                print(f\"Error al cargar {img_path}: {e}\")"
   ]
  },
  {
   "cell_type": "code",
   "execution_count": 35,
   "metadata": {},
   "outputs": [],
   "source": [
    "# Convertir a arrays de numpy\n",
    "X = np.array(images)\n",
    "y = tf.keras.utils.to_categorical(labels, num_classes=num_classes)\n",
    "\n",
    "# Dividir en conjuntos de entrenamiento y validación\n",
    "X_train, X_val, y_train, y_val = train_test_split(X, y, test_size=0.2, random_state=42)\n",
    "\n",
    "# Compilar modelo\n",
    "model.compile(\n",
    "    optimizer=optimizers.Adam(learning_rate=0.001),\n",
    "    loss='categorical_crossentropy',\n",
    "    metrics=['accuracy']\n",
    ")"
   ]
  },
  {
   "cell_type": "code",
   "execution_count": 53,
   "metadata": {},
   "outputs": [
    {
     "ename": "ValueError",
     "evalue": "Unrecognized data type: x=[[[[0.9137255 ]\n   [0.9529412 ]\n   [0.9647059 ]\n   ...\n   [0.99215686]\n   [0.9843137 ]\n   [0.9647059 ]]\n\n  [[0.9411765 ]\n   [0.972549  ]\n   [0.9764706 ]\n   ...\n   [0.9882353 ]\n   [0.9843137 ]\n   [0.9764706 ]]\n\n  [[0.972549  ]\n   [0.99215686]\n   [0.9882353 ]\n   ...\n   [0.98039216]\n   [0.98039216]\n   [0.98039216]]\n\n  ...\n\n  [[0.99607843]\n   [0.99607843]\n   [0.99607843]\n   ...\n   [0.9882353 ]\n   [0.9882353 ]\n   [0.98039216]]\n\n  [[0.96862745]\n   [0.972549  ]\n   [0.9764706 ]\n   ...\n   [0.96862745]\n   [0.96862745]\n   [0.9647059 ]]\n\n  [[0.95686275]\n   [0.9607843 ]\n   [0.96862745]\n   ...\n   [0.9882353 ]\n   [0.9764706 ]\n   [0.9607843 ]]]\n\n\n [[[0.99607843]\n   [0.9843137 ]\n   [0.9882353 ]\n   ...\n   [0.9607843 ]\n   [0.9764706 ]\n   [0.99215686]]\n\n  [[1.        ]\n   [0.98039216]\n   [0.972549  ]\n   ...\n   [0.9882353 ]\n   [0.9882353 ]\n   [0.9882353 ]]\n\n  [[0.98039216]\n   [0.95686275]\n   [0.9490196 ]\n   ...\n   [0.9647059 ]\n   [0.9529412 ]\n   [0.94509804]]\n\n  ...\n\n  [[0.9529412 ]\n   [0.972549  ]\n   [0.9843137 ]\n   ...\n   [0.9647059 ]\n   [0.9764706 ]\n   [0.9882353 ]]\n\n  [[0.9490196 ]\n   [0.9764706 ]\n   [0.9843137 ]\n   ...\n   [0.972549  ]\n   [0.9843137 ]\n   [0.99215686]]\n\n  [[0.9607843 ]\n   [0.98039216]\n   [0.98039216]\n   ...\n   [0.972549  ]\n   [0.9607843 ]\n   [0.93333334]]]\n\n\n [[[1.        ]\n   [1.        ]\n   [1.        ]\n   ...\n   [1.        ]\n   [1.        ]\n   [1.        ]]\n\n  [[1.        ]\n   [1.        ]\n   [1.        ]\n   ...\n   [1.        ]\n   [1.        ]\n   [1.        ]]\n\n  [[1.        ]\n   [1.        ]\n   [1.        ]\n   ...\n   [1.        ]\n   [1.        ]\n   [1.        ]]\n\n  ...\n\n  [[1.        ]\n   [1.        ]\n   [1.        ]\n   ...\n   [1.        ]\n   [1.        ]\n   [1.        ]]\n\n  [[1.        ]\n   [1.        ]\n   [1.        ]\n   ...\n   [1.        ]\n   [1.        ]\n   [1.        ]]\n\n  [[1.        ]\n   [1.        ]\n   [1.        ]\n   ...\n   [1.        ]\n   [1.        ]\n   [1.        ]]]\n\n\n ...\n\n\n [[[0.9411765 ]\n   [0.972549  ]\n   [0.9843137 ]\n   ...\n   [0.99215686]\n   [0.9843137 ]\n   [0.9764706 ]]\n\n  [[0.9764706 ]\n   [0.9764706 ]\n   [0.972549  ]\n   ...\n   [0.9764706 ]\n   [0.9843137 ]\n   [0.9882353 ]]\n\n  [[0.9647059 ]\n   [0.9764706 ]\n   [0.9843137 ]\n   ...\n   [0.98039216]\n   [0.9647059 ]\n   [0.9529412 ]]\n\n  ...\n\n  [[0.9647059 ]\n   [0.972549  ]\n   [0.98039216]\n   ...\n   [0.9764706 ]\n   [0.9843137 ]\n   [0.99607843]]\n\n  [[0.9529412 ]\n   [0.9607843 ]\n   [0.9764706 ]\n   ...\n   [0.94509804]\n   [0.9529412 ]\n   [0.9607843 ]]\n\n  [[0.9411765 ]\n   [0.9529412 ]\n   [0.96862745]\n   ...\n   [0.9843137 ]\n   [0.9882353 ]\n   [0.99215686]]]\n\n\n [[[1.        ]\n   [1.        ]\n   [1.        ]\n   ...\n   [1.        ]\n   [1.        ]\n   [1.        ]]\n\n  [[1.        ]\n   [1.        ]\n   [1.        ]\n   ...\n   [1.        ]\n   [1.        ]\n   [1.        ]]\n\n  [[1.        ]\n   [1.        ]\n   [1.        ]\n   ...\n   [1.        ]\n   [1.        ]\n   [1.        ]]\n\n  ...\n\n  [[1.        ]\n   [1.        ]\n   [1.        ]\n   ...\n   [1.        ]\n   [1.        ]\n   [1.        ]]\n\n  [[1.        ]\n   [1.        ]\n   [1.        ]\n   ...\n   [1.        ]\n   [1.        ]\n   [1.        ]]\n\n  [[1.        ]\n   [1.        ]\n   [1.        ]\n   ...\n   [1.        ]\n   [1.        ]\n   [1.        ]]]\n\n\n [[[0.9764706 ]\n   [0.9843137 ]\n   [0.9882353 ]\n   ...\n   [0.9843137 ]\n   [0.98039216]\n   [0.9764706 ]]\n\n  [[0.972549  ]\n   [0.9764706 ]\n   [0.9843137 ]\n   ...\n   [0.9764706 ]\n   [0.9764706 ]\n   [0.972549  ]]\n\n  [[0.9647059 ]\n   [0.96862745]\n   [0.972549  ]\n   ...\n   [0.98039216]\n   [0.9843137 ]\n   [0.9882353 ]]\n\n  ...\n\n  [[0.99215686]\n   [0.9843137 ]\n   [0.98039216]\n   ...\n   [0.9490196 ]\n   [0.9411765 ]\n   [0.95686275]]\n\n  [[0.99607843]\n   [0.9882353 ]\n   [0.98039216]\n   ...\n   [0.95686275]\n   [0.94509804]\n   [0.96862745]]\n\n  [[0.98039216]\n   [0.972549  ]\n   [0.96862745]\n   ...\n   [0.9490196 ]\n   [0.9411765 ]\n   [0.96862745]]]] (of type <class 'numpy.ndarray'>)",
     "output_type": "error",
     "traceback": [
      "\u001b[31m---------------------------------------------------------------------------\u001b[39m",
      "\u001b[31mValueError\u001b[39m                                Traceback (most recent call last)",
      "\u001b[36mCell\u001b[39m\u001b[36m \u001b[39m\u001b[32mIn[53]\u001b[39m\u001b[32m, line 2\u001b[39m\n\u001b[32m      1\u001b[39m \u001b[38;5;66;03m# Entrenar modelo\u001b[39;00m\n\u001b[32m----> \u001b[39m\u001b[32m2\u001b[39m history = \u001b[43mmodel\u001b[49m\u001b[43m.\u001b[49m\u001b[43mfit\u001b[49m\u001b[43m(\u001b[49m\n\u001b[32m      3\u001b[39m \u001b[43m    \u001b[49m\u001b[43mX_train\u001b[49m\u001b[43m,\u001b[49m\u001b[43m \u001b[49m\u001b[43my_train\u001b[49m\u001b[43m,\u001b[49m\n\u001b[32m      4\u001b[39m \u001b[43m    \u001b[49m\u001b[43mbatch_size\u001b[49m\u001b[43m=\u001b[49m\u001b[32;43m32\u001b[39;49m\u001b[43m,\u001b[49m\n\u001b[32m      5\u001b[39m \u001b[43m    \u001b[49m\u001b[43mepochs\u001b[49m\u001b[43m=\u001b[49m\u001b[32;43m10\u001b[39;49m\u001b[43m,\u001b[49m\n\u001b[32m      6\u001b[39m \u001b[43m    \u001b[49m\u001b[43mvalidation_data\u001b[49m\u001b[43m=\u001b[49m\u001b[43m(\u001b[49m\u001b[43mX_val\u001b[49m\u001b[43m,\u001b[49m\u001b[43m \u001b[49m\u001b[43my_val\u001b[49m\u001b[43m)\u001b[49m\u001b[43m,\u001b[49m\n\u001b[32m      7\u001b[39m \u001b[43m    \u001b[49m\u001b[43mverbose\u001b[49m\u001b[43m=\u001b[49m\u001b[32;43m1\u001b[39;49m\n\u001b[32m      8\u001b[39m \u001b[43m)\u001b[49m\n",
      "\u001b[36mFile \u001b[39m\u001b[32mc:\\Users\\rosel\\Documents\\IA-BD\\PIA\\Proyecto2-Parquing\\.venv\\Lib\\site-packages\\keras\\src\\utils\\traceback_utils.py:122\u001b[39m, in \u001b[36mfilter_traceback.<locals>.error_handler\u001b[39m\u001b[34m(*args, **kwargs)\u001b[39m\n\u001b[32m    119\u001b[39m     filtered_tb = _process_traceback_frames(e.__traceback__)\n\u001b[32m    120\u001b[39m     \u001b[38;5;66;03m# To get the full stack trace, call:\u001b[39;00m\n\u001b[32m    121\u001b[39m     \u001b[38;5;66;03m# `keras.config.disable_traceback_filtering()`\u001b[39;00m\n\u001b[32m--> \u001b[39m\u001b[32m122\u001b[39m     \u001b[38;5;28;01mraise\u001b[39;00m e.with_traceback(filtered_tb) \u001b[38;5;28;01mfrom\u001b[39;00m\u001b[38;5;250m \u001b[39m\u001b[38;5;28;01mNone\u001b[39;00m\n\u001b[32m    123\u001b[39m \u001b[38;5;28;01mfinally\u001b[39;00m:\n\u001b[32m    124\u001b[39m     \u001b[38;5;28;01mdel\u001b[39;00m filtered_tb\n",
      "\u001b[36mFile \u001b[39m\u001b[32mc:\\Users\\rosel\\Documents\\IA-BD\\PIA\\Proyecto2-Parquing\\.venv\\Lib\\site-packages\\keras\\src\\trainers\\data_adapters\\__init__.py:125\u001b[39m, in \u001b[36mget_data_adapter\u001b[39m\u001b[34m(x, y, sample_weight, batch_size, steps_per_epoch, shuffle, class_weight)\u001b[39m\n\u001b[32m    117\u001b[39m     \u001b[38;5;28;01mreturn\u001b[39;00m GeneratorDataAdapter(x)\n\u001b[32m    118\u001b[39m     \u001b[38;5;66;03m# TODO: should we warn or not?\u001b[39;00m\n\u001b[32m    119\u001b[39m     \u001b[38;5;66;03m# warnings.warn(\u001b[39;00m\n\u001b[32m    120\u001b[39m     \u001b[38;5;66;03m#     \"`shuffle=True` was passed, but will be ignored since the \"\u001b[39;00m\n\u001b[32m   (...)\u001b[39m\u001b[32m    123\u001b[39m     \u001b[38;5;66;03m# )\u001b[39;00m\n\u001b[32m    124\u001b[39m \u001b[38;5;28;01melse\u001b[39;00m:\n\u001b[32m--> \u001b[39m\u001b[32m125\u001b[39m     \u001b[38;5;28;01mraise\u001b[39;00m \u001b[38;5;167;01mValueError\u001b[39;00m(\u001b[33mf\u001b[39m\u001b[33m\"\u001b[39m\u001b[33mUnrecognized data type: x=\u001b[39m\u001b[38;5;132;01m{\u001b[39;00mx\u001b[38;5;132;01m}\u001b[39;00m\u001b[33m (of type \u001b[39m\u001b[38;5;132;01m{\u001b[39;00m\u001b[38;5;28mtype\u001b[39m(x)\u001b[38;5;132;01m}\u001b[39;00m\u001b[33m)\u001b[39m\u001b[33m\"\u001b[39m)\n",
      "\u001b[31mValueError\u001b[39m: Unrecognized data type: x=[[[[0.9137255 ]\n   [0.9529412 ]\n   [0.9647059 ]\n   ...\n   [0.99215686]\n   [0.9843137 ]\n   [0.9647059 ]]\n\n  [[0.9411765 ]\n   [0.972549  ]\n   [0.9764706 ]\n   ...\n   [0.9882353 ]\n   [0.9843137 ]\n   [0.9764706 ]]\n\n  [[0.972549  ]\n   [0.99215686]\n   [0.9882353 ]\n   ...\n   [0.98039216]\n   [0.98039216]\n   [0.98039216]]\n\n  ...\n\n  [[0.99607843]\n   [0.99607843]\n   [0.99607843]\n   ...\n   [0.9882353 ]\n   [0.9882353 ]\n   [0.98039216]]\n\n  [[0.96862745]\n   [0.972549  ]\n   [0.9764706 ]\n   ...\n   [0.96862745]\n   [0.96862745]\n   [0.9647059 ]]\n\n  [[0.95686275]\n   [0.9607843 ]\n   [0.96862745]\n   ...\n   [0.9882353 ]\n   [0.9764706 ]\n   [0.9607843 ]]]\n\n\n [[[0.99607843]\n   [0.9843137 ]\n   [0.9882353 ]\n   ...\n   [0.9607843 ]\n   [0.9764706 ]\n   [0.99215686]]\n\n  [[1.        ]\n   [0.98039216]\n   [0.972549  ]\n   ...\n   [0.9882353 ]\n   [0.9882353 ]\n   [0.9882353 ]]\n\n  [[0.98039216]\n   [0.95686275]\n   [0.9490196 ]\n   ...\n   [0.9647059 ]\n   [0.9529412 ]\n   [0.94509804]]\n\n  ...\n\n  [[0.9529412 ]\n   [0.972549  ]\n   [0.9843137 ]\n   ...\n   [0.9647059 ]\n   [0.9764706 ]\n   [0.9882353 ]]\n\n  [[0.9490196 ]\n   [0.9764706 ]\n   [0.9843137 ]\n   ...\n   [0.972549  ]\n   [0.9843137 ]\n   [0.99215686]]\n\n  [[0.9607843 ]\n   [0.98039216]\n   [0.98039216]\n   ...\n   [0.972549  ]\n   [0.9607843 ]\n   [0.93333334]]]\n\n\n [[[1.        ]\n   [1.        ]\n   [1.        ]\n   ...\n   [1.        ]\n   [1.        ]\n   [1.        ]]\n\n  [[1.        ]\n   [1.        ]\n   [1.        ]\n   ...\n   [1.        ]\n   [1.        ]\n   [1.        ]]\n\n  [[1.        ]\n   [1.        ]\n   [1.        ]\n   ...\n   [1.        ]\n   [1.        ]\n   [1.        ]]\n\n  ...\n\n  [[1.        ]\n   [1.        ]\n   [1.        ]\n   ...\n   [1.        ]\n   [1.        ]\n   [1.        ]]\n\n  [[1.        ]\n   [1.        ]\n   [1.        ]\n   ...\n   [1.        ]\n   [1.        ]\n   [1.        ]]\n\n  [[1.        ]\n   [1.        ]\n   [1.        ]\n   ...\n   [1.        ]\n   [1.        ]\n   [1.        ]]]\n\n\n ...\n\n\n [[[0.9411765 ]\n   [0.972549  ]\n   [0.9843137 ]\n   ...\n   [0.99215686]\n   [0.9843137 ]\n   [0.9764706 ]]\n\n  [[0.9764706 ]\n   [0.9764706 ]\n   [0.972549  ]\n   ...\n   [0.9764706 ]\n   [0.9843137 ]\n   [0.9882353 ]]\n\n  [[0.9647059 ]\n   [0.9764706 ]\n   [0.9843137 ]\n   ...\n   [0.98039216]\n   [0.9647059 ]\n   [0.9529412 ]]\n\n  ...\n\n  [[0.9647059 ]\n   [0.972549  ]\n   [0.98039216]\n   ...\n   [0.9764706 ]\n   [0.9843137 ]\n   [0.99607843]]\n\n  [[0.9529412 ]\n   [0.9607843 ]\n   [0.9764706 ]\n   ...\n   [0.94509804]\n   [0.9529412 ]\n   [0.9607843 ]]\n\n  [[0.9411765 ]\n   [0.9529412 ]\n   [0.96862745]\n   ...\n   [0.9843137 ]\n   [0.9882353 ]\n   [0.99215686]]]\n\n\n [[[1.        ]\n   [1.        ]\n   [1.        ]\n   ...\n   [1.        ]\n   [1.        ]\n   [1.        ]]\n\n  [[1.        ]\n   [1.        ]\n   [1.        ]\n   ...\n   [1.        ]\n   [1.        ]\n   [1.        ]]\n\n  [[1.        ]\n   [1.        ]\n   [1.        ]\n   ...\n   [1.        ]\n   [1.        ]\n   [1.        ]]\n\n  ...\n\n  [[1.        ]\n   [1.        ]\n   [1.        ]\n   ...\n   [1.        ]\n   [1.        ]\n   [1.        ]]\n\n  [[1.        ]\n   [1.        ]\n   [1.        ]\n   ...\n   [1.        ]\n   [1.        ]\n   [1.        ]]\n\n  [[1.        ]\n   [1.        ]\n   [1.        ]\n   ...\n   [1.        ]\n   [1.        ]\n   [1.        ]]]\n\n\n [[[0.9764706 ]\n   [0.9843137 ]\n   [0.9882353 ]\n   ...\n   [0.9843137 ]\n   [0.98039216]\n   [0.9764706 ]]\n\n  [[0.972549  ]\n   [0.9764706 ]\n   [0.9843137 ]\n   ...\n   [0.9764706 ]\n   [0.9764706 ]\n   [0.972549  ]]\n\n  [[0.9647059 ]\n   [0.96862745]\n   [0.972549  ]\n   ...\n   [0.98039216]\n   [0.9843137 ]\n   [0.9882353 ]]\n\n  ...\n\n  [[0.99215686]\n   [0.9843137 ]\n   [0.98039216]\n   ...\n   [0.9490196 ]\n   [0.9411765 ]\n   [0.95686275]]\n\n  [[0.99607843]\n   [0.9882353 ]\n   [0.98039216]\n   ...\n   [0.95686275]\n   [0.94509804]\n   [0.96862745]]\n\n  [[0.98039216]\n   [0.972549  ]\n   [0.96862745]\n   ...\n   [0.9490196 ]\n   [0.9411765 ]\n   [0.96862745]]]] (of type <class 'numpy.ndarray'>)"
     ]
    }
   ],
   "source": [
    "# Entrenar modelo\n",
    "history = model.fit(\n",
    "    X_train, y_train,\n",
    "    batch_size=32,\n",
    "    epochs=10,\n",
    "    validation_data=(X_val, y_val),\n",
    "    verbose=1\n",
    ")"
   ]
  },
  {
   "cell_type": "code",
   "execution_count": null,
   "metadata": {},
   "outputs": [],
   "source": [
    "# Visualizar resultados del entrenamiento\n",
    "plt.figure(figsize=(12, 4))\n",
    "plt.subplot(1, 2, 1)\n",
    "plt.plot(history.history['accuracy'], label='Precisión entrenamiento')\n",
    "plt.plot(history.history['val_accuracy'], label='Precisión validación')\n",
    "plt.title('Precisión del modelo')\n",
    "plt.xlabel('Época')\n",
    "plt.ylabel('Precisión')\n",
    "plt.legend()\n",
    "\n",
    "plt.subplot(1, 2, 2)\n",
    "plt.plot(history.history['loss'], label='Pérdida entrenamiento')\n",
    "plt.plot(history.history['val_loss'], label='Pérdida validación')\n",
    "plt.title('Pérdida del modelo')\n",
    "plt.xlabel('Época')\n",
    "plt.ylabel('Pérdida')\n",
    "plt.legend()\n",
    "\n",
    "plt.tight_layout()\n",
    "plt.show()"
   ]
  }
 ],
 "metadata": {
  "kernelspec": {
   "display_name": ".venv",
   "language": "python",
   "name": "python3"
  },
  "language_info": {
   "codemirror_mode": {
    "name": "ipython",
    "version": 3
   },
   "file_extension": ".py",
   "mimetype": "text/x-python",
   "name": "python",
   "nbconvert_exporter": "python",
   "pygments_lexer": "ipython3",
   "version": "3.12.1"
  }
 },
 "nbformat": 4,
 "nbformat_minor": 2
}
