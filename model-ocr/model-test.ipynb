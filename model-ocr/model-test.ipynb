{
 "cells": [
  {
   "cell_type": "markdown",
   "metadata": {},
   "source": [
    "# Importar Librerías Necesarias\n",
    "Importar las librerías requeridas como TensorFlow, NumPy, Matplotlib, y otras necesarias para el procesamiento de datos y el entrenamiento del modelo."
   ]
  },
  {
   "cell_type": "code",
   "execution_count": 1,
   "metadata": {},
   "outputs": [],
   "source": [
    "# Importar las librerías necesarias\n",
    "import os\n",
    "import numpy as np\n",
    "import tensorflow as tf\n",
    "from tensorflow.keras import layers, models, optimizers\n",
    "from tensorflow.keras.preprocessing.image import img_to_array, load_img\n",
    "from sklearn.model_selection import train_test_split\n",
    "import matplotlib.pyplot as plt\n",
    "import re\n",
    "import cv2\n",
    "from pathlib import Path\n",
    "\n",
    "# Configuración para mostrar gráficos en el notebook\n",
    "%matplotlib inline"
   ]
  },
  {
   "cell_type": "markdown",
   "metadata": {},
   "source": [
    "# Definir Constantes y Funciones Auxiliares\n",
    "Definir constantes como IMG_HEIGHT, IMG_WIDTH, CHARS, y funciones auxiliares como cargar_datos y preprocesar_etiquetas."
   ]
  },
  {
   "cell_type": "code",
   "execution_count": 2,
   "metadata": {},
   "outputs": [],
   "source": [
    "# Definir constantes\n",
    "IMG_HEIGHT = 100\n",
    "IMG_WIDTH = 280\n",
    "BATCH_SIZE = 32\n",
    "EPOCHS = 30\n",
    "CHARS = \"0123456789 BCDFGHJKLMNPQRSTVWXYZ\"  # Caracteres permitidos (dígitos + espacio + letras sin vocales)\n",
    "CHAR_TO_INDEX = {char: idx for idx, char in enumerate(CHARS)}\n",
    "INDEX_TO_CHAR = {idx: char for idx, char in enumerate(CHARS)}\n",
    "MAX_LENGTH = 8  # 4 dígitos + 1 espacio + 3 letras\n",
    "\n",
    "# Función para cargar datos\n",
    "def cargar_datos(data_dir=\"dades\"):\n",
    "    \"\"\"Carga las imágenes y sus correspondientes etiquetas.\"\"\"\n",
    "    print(\"Cargando datos...\")\n",
    "    data_path = os.path.join(os.getcwd(), data_dir)\n",
    "    \n",
    "    if not os.path.exists(data_path):\n",
    "        raise FileNotFoundError(f\"No se encuentra el directorio de datos: {data_path}\")\n",
    "    \n",
    "    images = []\n",
    "    labels = []\n",
    "    pattern = r\"matricula_([0-9]{4}\\s[A-Z]{3})_\\d+\\.jpg\"\n",
    "    \n",
    "    for img_file in os.listdir(data_path):\n",
    "        if img_file.endswith('.jpg'):\n",
    "            match = re.match(pattern, img_file)\n",
    "            if match:\n",
    "                plate_text = match.group(1)\n",
    "                img_path = os.path.join(data_path, img_file)\n",
    "                img = load_img(img_path, color_mode=\"grayscale\", target_size=(IMG_HEIGHT, IMG_WIDTH))\n",
    "                img = img_to_array(img) / 255.0  # Normalizar a [0,1]\n",
    "                images.append(img)\n",
    "                labels.append(plate_text)\n",
    "    \n",
    "    print(f\"Se han cargado {len(images)} imágenes con sus etiquetas.\")\n",
    "    return np.array(images), np.array(labels)\n",
    "\n",
    "# Función para preprocesar etiquetas\n",
    "def preprocesar_etiquetas(labels):\n",
    "    \"\"\"Convierte las etiquetas de texto a formato one-hot para secuencias.\"\"\"\n",
    "    y = np.zeros((len(labels), MAX_LENGTH, len(CHARS)), dtype=np.float32)\n",
    "    for i, label in enumerate(labels):\n",
    "        for j, char in enumerate(label):\n",
    "            if j < MAX_LENGTH and char in CHAR_TO_INDEX:\n",
    "                y[i, j, CHAR_TO_INDEX[char]] = 1.0\n",
    "    return y"
   ]
  },
  {
   "cell_type": "markdown",
   "metadata": {},
   "source": [
    "# Cargar y Preprocesar Datos\n",
    "Cargar las imágenes y etiquetas desde el directorio de datos, preprocesarlas y dividirlas en conjuntos de entrenamiento, validación y prueba."
   ]
  },
  {
   "cell_type": "code",
   "execution_count": 3,
   "metadata": {},
   "outputs": [
    {
     "name": "stdout",
     "output_type": "stream",
     "text": [
      "Cargando datos...\n",
      "Se han cargado 50 imágenes con sus etiquetas.\n",
      "Datos de entrenamiento: (32, 100, 280, 1)\n",
      "Datos de validación: (8, 100, 280, 1)\n",
      "Datos de prueba: (10, 100, 280, 1)\n"
     ]
    }
   ],
   "source": [
    "# Cargar y preprocesar los datos\n",
    "# Cargar las imágenes y etiquetas\n",
    "X, y_text = cargar_datos(data_dir=\"dades\")\n",
    "\n",
    "# Preprocesar las etiquetas en formato one-hot\n",
    "y = preprocesar_etiquetas(y_text)\n",
    "\n",
    "# Dividir los datos en conjuntos de entrenamiento, validación y prueba\n",
    "X_train, X_test, y_train, y_test = train_test_split(X, y, test_size=0.2, random_state=42)\n",
    "X_train, X_val, y_train, y_val = train_test_split(X_train, y_train, test_size=0.2, random_state=42)\n",
    "\n",
    "# Mostrar las dimensiones de los conjuntos de datos\n",
    "print(f\"Datos de entrenamiento: {X_train.shape}\")\n",
    "print(f\"Datos de validación: {X_val.shape}\")\n",
    "print(f\"Datos de prueba: {X_test.shape}\")"
   ]
  },
  {
   "cell_type": "markdown",
   "metadata": {},
   "source": [
    "# Crear el Modelo OCR\n",
    "Definir la arquitectura del modelo OCR utilizando capas de TensorFlow, incluyendo convoluciones, densas y salidas para cada carácter."
   ]
  },
  {
   "cell_type": "code",
   "execution_count": 4,
   "metadata": {},
   "outputs": [
    {
     "data": {
      "text/html": [
       "<pre style=\"white-space:pre;overflow-x:auto;line-height:normal;font-family:Menlo,'DejaVu Sans Mono',consolas,'Courier New',monospace\"><span style=\"font-weight: bold\">Model: \"functional\"</span>\n",
       "</pre>\n"
      ],
      "text/plain": [
       "\u001b[1mModel: \"functional\"\u001b[0m\n"
      ]
     },
     "metadata": {},
     "output_type": "display_data"
    },
    {
     "data": {
      "text/html": [
       "<pre style=\"white-space:pre;overflow-x:auto;line-height:normal;font-family:Menlo,'DejaVu Sans Mono',consolas,'Courier New',monospace\">┏━━━━━━━━━━━━━━━━━━━━━┳━━━━━━━━━━━━━━━━━━━┳━━━━━━━━━━━━┳━━━━━━━━━━━━━━━━━━━┓\n",
       "┃<span style=\"font-weight: bold\"> Layer (type)        </span>┃<span style=\"font-weight: bold\"> Output Shape      </span>┃<span style=\"font-weight: bold\">    Param # </span>┃<span style=\"font-weight: bold\"> Connected to      </span>┃\n",
       "┡━━━━━━━━━━━━━━━━━━━━━╇━━━━━━━━━━━━━━━━━━━╇━━━━━━━━━━━━╇━━━━━━━━━━━━━━━━━━━┩\n",
       "│ input_layer         │ (<span style=\"color: #00d7ff; text-decoration-color: #00d7ff\">None</span>, <span style=\"color: #00af00; text-decoration-color: #00af00\">100</span>, <span style=\"color: #00af00; text-decoration-color: #00af00\">280</span>,  │          <span style=\"color: #00af00; text-decoration-color: #00af00\">0</span> │ -                 │\n",
       "│ (<span style=\"color: #0087ff; text-decoration-color: #0087ff\">InputLayer</span>)        │ <span style=\"color: #00af00; text-decoration-color: #00af00\">1</span>)                │            │                   │\n",
       "├─────────────────────┼───────────────────┼────────────┼───────────────────┤\n",
       "│ conv2d (<span style=\"color: #0087ff; text-decoration-color: #0087ff\">Conv2D</span>)     │ (<span style=\"color: #00d7ff; text-decoration-color: #00d7ff\">None</span>, <span style=\"color: #00af00; text-decoration-color: #00af00\">100</span>, <span style=\"color: #00af00; text-decoration-color: #00af00\">280</span>,  │        <span style=\"color: #00af00; text-decoration-color: #00af00\">320</span> │ input_layer[<span style=\"color: #00af00; text-decoration-color: #00af00\">0</span>][<span style=\"color: #00af00; text-decoration-color: #00af00\">0</span>] │\n",
       "│                     │ <span style=\"color: #00af00; text-decoration-color: #00af00\">32</span>)               │            │                   │\n",
       "├─────────────────────┼───────────────────┼────────────┼───────────────────┤\n",
       "│ max_pooling2d       │ (<span style=\"color: #00d7ff; text-decoration-color: #00d7ff\">None</span>, <span style=\"color: #00af00; text-decoration-color: #00af00\">50</span>, <span style=\"color: #00af00; text-decoration-color: #00af00\">140</span>,   │          <span style=\"color: #00af00; text-decoration-color: #00af00\">0</span> │ conv2d[<span style=\"color: #00af00; text-decoration-color: #00af00\">0</span>][<span style=\"color: #00af00; text-decoration-color: #00af00\">0</span>]      │\n",
       "│ (<span style=\"color: #0087ff; text-decoration-color: #0087ff\">MaxPooling2D</span>)      │ <span style=\"color: #00af00; text-decoration-color: #00af00\">32</span>)               │            │                   │\n",
       "├─────────────────────┼───────────────────┼────────────┼───────────────────┤\n",
       "│ conv2d_1 (<span style=\"color: #0087ff; text-decoration-color: #0087ff\">Conv2D</span>)   │ (<span style=\"color: #00d7ff; text-decoration-color: #00d7ff\">None</span>, <span style=\"color: #00af00; text-decoration-color: #00af00\">50</span>, <span style=\"color: #00af00; text-decoration-color: #00af00\">140</span>,   │     <span style=\"color: #00af00; text-decoration-color: #00af00\">18,496</span> │ max_pooling2d[<span style=\"color: #00af00; text-decoration-color: #00af00\">0</span>]… │\n",
       "│                     │ <span style=\"color: #00af00; text-decoration-color: #00af00\">64</span>)               │            │                   │\n",
       "├─────────────────────┼───────────────────┼────────────┼───────────────────┤\n",
       "│ max_pooling2d_1     │ (<span style=\"color: #00d7ff; text-decoration-color: #00d7ff\">None</span>, <span style=\"color: #00af00; text-decoration-color: #00af00\">25</span>, <span style=\"color: #00af00; text-decoration-color: #00af00\">70</span>,    │          <span style=\"color: #00af00; text-decoration-color: #00af00\">0</span> │ conv2d_1[<span style=\"color: #00af00; text-decoration-color: #00af00\">0</span>][<span style=\"color: #00af00; text-decoration-color: #00af00\">0</span>]    │\n",
       "│ (<span style=\"color: #0087ff; text-decoration-color: #0087ff\">MaxPooling2D</span>)      │ <span style=\"color: #00af00; text-decoration-color: #00af00\">64</span>)               │            │                   │\n",
       "├─────────────────────┼───────────────────┼────────────┼───────────────────┤\n",
       "│ conv2d_2 (<span style=\"color: #0087ff; text-decoration-color: #0087ff\">Conv2D</span>)   │ (<span style=\"color: #00d7ff; text-decoration-color: #00d7ff\">None</span>, <span style=\"color: #00af00; text-decoration-color: #00af00\">25</span>, <span style=\"color: #00af00; text-decoration-color: #00af00\">70</span>,    │     <span style=\"color: #00af00; text-decoration-color: #00af00\">73,856</span> │ max_pooling2d_1[<span style=\"color: #00af00; text-decoration-color: #00af00\">…</span> │\n",
       "│                     │ <span style=\"color: #00af00; text-decoration-color: #00af00\">128</span>)              │            │                   │\n",
       "├─────────────────────┼───────────────────┼────────────┼───────────────────┤\n",
       "│ max_pooling2d_2     │ (<span style=\"color: #00d7ff; text-decoration-color: #00d7ff\">None</span>, <span style=\"color: #00af00; text-decoration-color: #00af00\">12</span>, <span style=\"color: #00af00; text-decoration-color: #00af00\">35</span>,    │          <span style=\"color: #00af00; text-decoration-color: #00af00\">0</span> │ conv2d_2[<span style=\"color: #00af00; text-decoration-color: #00af00\">0</span>][<span style=\"color: #00af00; text-decoration-color: #00af00\">0</span>]    │\n",
       "│ (<span style=\"color: #0087ff; text-decoration-color: #0087ff\">MaxPooling2D</span>)      │ <span style=\"color: #00af00; text-decoration-color: #00af00\">128</span>)              │            │                   │\n",
       "├─────────────────────┼───────────────────┼────────────┼───────────────────┤\n",
       "│ conv2d_3 (<span style=\"color: #0087ff; text-decoration-color: #0087ff\">Conv2D</span>)   │ (<span style=\"color: #00d7ff; text-decoration-color: #00d7ff\">None</span>, <span style=\"color: #00af00; text-decoration-color: #00af00\">12</span>, <span style=\"color: #00af00; text-decoration-color: #00af00\">35</span>,    │    <span style=\"color: #00af00; text-decoration-color: #00af00\">147,584</span> │ max_pooling2d_2[<span style=\"color: #00af00; text-decoration-color: #00af00\">…</span> │\n",
       "│                     │ <span style=\"color: #00af00; text-decoration-color: #00af00\">128</span>)              │            │                   │\n",
       "├─────────────────────┼───────────────────┼────────────┼───────────────────┤\n",
       "│ max_pooling2d_3     │ (<span style=\"color: #00d7ff; text-decoration-color: #00d7ff\">None</span>, <span style=\"color: #00af00; text-decoration-color: #00af00\">6</span>, <span style=\"color: #00af00; text-decoration-color: #00af00\">17</span>,     │          <span style=\"color: #00af00; text-decoration-color: #00af00\">0</span> │ conv2d_3[<span style=\"color: #00af00; text-decoration-color: #00af00\">0</span>][<span style=\"color: #00af00; text-decoration-color: #00af00\">0</span>]    │\n",
       "│ (<span style=\"color: #0087ff; text-decoration-color: #0087ff\">MaxPooling2D</span>)      │ <span style=\"color: #00af00; text-decoration-color: #00af00\">128</span>)              │            │                   │\n",
       "├─────────────────────┼───────────────────┼────────────┼───────────────────┤\n",
       "│ flatten (<span style=\"color: #0087ff; text-decoration-color: #0087ff\">Flatten</span>)   │ (<span style=\"color: #00d7ff; text-decoration-color: #00d7ff\">None</span>, <span style=\"color: #00af00; text-decoration-color: #00af00\">13056</span>)     │          <span style=\"color: #00af00; text-decoration-color: #00af00\">0</span> │ max_pooling2d_3[<span style=\"color: #00af00; text-decoration-color: #00af00\">…</span> │\n",
       "├─────────────────────┼───────────────────┼────────────┼───────────────────┤\n",
       "│ dense (<span style=\"color: #0087ff; text-decoration-color: #0087ff\">Dense</span>)       │ (<span style=\"color: #00d7ff; text-decoration-color: #00d7ff\">None</span>, <span style=\"color: #00af00; text-decoration-color: #00af00\">512</span>)       │  <span style=\"color: #00af00; text-decoration-color: #00af00\">6,685,184</span> │ flatten[<span style=\"color: #00af00; text-decoration-color: #00af00\">0</span>][<span style=\"color: #00af00; text-decoration-color: #00af00\">0</span>]     │\n",
       "├─────────────────────┼───────────────────┼────────────┼───────────────────┤\n",
       "│ dropout (<span style=\"color: #0087ff; text-decoration-color: #0087ff\">Dropout</span>)   │ (<span style=\"color: #00d7ff; text-decoration-color: #00d7ff\">None</span>, <span style=\"color: #00af00; text-decoration-color: #00af00\">512</span>)       │          <span style=\"color: #00af00; text-decoration-color: #00af00\">0</span> │ dense[<span style=\"color: #00af00; text-decoration-color: #00af00\">0</span>][<span style=\"color: #00af00; text-decoration-color: #00af00\">0</span>]       │\n",
       "├─────────────────────┼───────────────────┼────────────┼───────────────────┤\n",
       "│ dense_1 (<span style=\"color: #0087ff; text-decoration-color: #0087ff\">Dense</span>)     │ (<span style=\"color: #00d7ff; text-decoration-color: #00d7ff\">None</span>, <span style=\"color: #00af00; text-decoration-color: #00af00\">64</span>)        │     <span style=\"color: #00af00; text-decoration-color: #00af00\">32,832</span> │ dropout[<span style=\"color: #00af00; text-decoration-color: #00af00\">0</span>][<span style=\"color: #00af00; text-decoration-color: #00af00\">0</span>]     │\n",
       "├─────────────────────┼───────────────────┼────────────┼───────────────────┤\n",
       "│ dense_2 (<span style=\"color: #0087ff; text-decoration-color: #0087ff\">Dense</span>)     │ (<span style=\"color: #00d7ff; text-decoration-color: #00d7ff\">None</span>, <span style=\"color: #00af00; text-decoration-color: #00af00\">64</span>)        │     <span style=\"color: #00af00; text-decoration-color: #00af00\">32,832</span> │ dropout[<span style=\"color: #00af00; text-decoration-color: #00af00\">0</span>][<span style=\"color: #00af00; text-decoration-color: #00af00\">0</span>]     │\n",
       "├─────────────────────┼───────────────────┼────────────┼───────────────────┤\n",
       "│ dense_3 (<span style=\"color: #0087ff; text-decoration-color: #0087ff\">Dense</span>)     │ (<span style=\"color: #00d7ff; text-decoration-color: #00d7ff\">None</span>, <span style=\"color: #00af00; text-decoration-color: #00af00\">64</span>)        │     <span style=\"color: #00af00; text-decoration-color: #00af00\">32,832</span> │ dropout[<span style=\"color: #00af00; text-decoration-color: #00af00\">0</span>][<span style=\"color: #00af00; text-decoration-color: #00af00\">0</span>]     │\n",
       "├─────────────────────┼───────────────────┼────────────┼───────────────────┤\n",
       "│ dense_4 (<span style=\"color: #0087ff; text-decoration-color: #0087ff\">Dense</span>)     │ (<span style=\"color: #00d7ff; text-decoration-color: #00d7ff\">None</span>, <span style=\"color: #00af00; text-decoration-color: #00af00\">64</span>)        │     <span style=\"color: #00af00; text-decoration-color: #00af00\">32,832</span> │ dropout[<span style=\"color: #00af00; text-decoration-color: #00af00\">0</span>][<span style=\"color: #00af00; text-decoration-color: #00af00\">0</span>]     │\n",
       "├─────────────────────┼───────────────────┼────────────┼───────────────────┤\n",
       "│ dense_5 (<span style=\"color: #0087ff; text-decoration-color: #0087ff\">Dense</span>)     │ (<span style=\"color: #00d7ff; text-decoration-color: #00d7ff\">None</span>, <span style=\"color: #00af00; text-decoration-color: #00af00\">64</span>)        │     <span style=\"color: #00af00; text-decoration-color: #00af00\">32,832</span> │ dropout[<span style=\"color: #00af00; text-decoration-color: #00af00\">0</span>][<span style=\"color: #00af00; text-decoration-color: #00af00\">0</span>]     │\n",
       "├─────────────────────┼───────────────────┼────────────┼───────────────────┤\n",
       "│ dense_6 (<span style=\"color: #0087ff; text-decoration-color: #0087ff\">Dense</span>)     │ (<span style=\"color: #00d7ff; text-decoration-color: #00d7ff\">None</span>, <span style=\"color: #00af00; text-decoration-color: #00af00\">64</span>)        │     <span style=\"color: #00af00; text-decoration-color: #00af00\">32,832</span> │ dropout[<span style=\"color: #00af00; text-decoration-color: #00af00\">0</span>][<span style=\"color: #00af00; text-decoration-color: #00af00\">0</span>]     │\n",
       "├─────────────────────┼───────────────────┼────────────┼───────────────────┤\n",
       "│ dense_7 (<span style=\"color: #0087ff; text-decoration-color: #0087ff\">Dense</span>)     │ (<span style=\"color: #00d7ff; text-decoration-color: #00d7ff\">None</span>, <span style=\"color: #00af00; text-decoration-color: #00af00\">64</span>)        │     <span style=\"color: #00af00; text-decoration-color: #00af00\">32,832</span> │ dropout[<span style=\"color: #00af00; text-decoration-color: #00af00\">0</span>][<span style=\"color: #00af00; text-decoration-color: #00af00\">0</span>]     │\n",
       "├─────────────────────┼───────────────────┼────────────┼───────────────────┤\n",
       "│ dense_8 (<span style=\"color: #0087ff; text-decoration-color: #0087ff\">Dense</span>)     │ (<span style=\"color: #00d7ff; text-decoration-color: #00d7ff\">None</span>, <span style=\"color: #00af00; text-decoration-color: #00af00\">64</span>)        │     <span style=\"color: #00af00; text-decoration-color: #00af00\">32,832</span> │ dropout[<span style=\"color: #00af00; text-decoration-color: #00af00\">0</span>][<span style=\"color: #00af00; text-decoration-color: #00af00\">0</span>]     │\n",
       "├─────────────────────┼───────────────────┼────────────┼───────────────────┤\n",
       "│ char_0 (<span style=\"color: #0087ff; text-decoration-color: #0087ff\">Dense</span>)      │ (<span style=\"color: #00d7ff; text-decoration-color: #00d7ff\">None</span>, <span style=\"color: #00af00; text-decoration-color: #00af00\">32</span>)        │      <span style=\"color: #00af00; text-decoration-color: #00af00\">2,080</span> │ dense_1[<span style=\"color: #00af00; text-decoration-color: #00af00\">0</span>][<span style=\"color: #00af00; text-decoration-color: #00af00\">0</span>]     │\n",
       "├─────────────────────┼───────────────────┼────────────┼───────────────────┤\n",
       "│ char_1 (<span style=\"color: #0087ff; text-decoration-color: #0087ff\">Dense</span>)      │ (<span style=\"color: #00d7ff; text-decoration-color: #00d7ff\">None</span>, <span style=\"color: #00af00; text-decoration-color: #00af00\">32</span>)        │      <span style=\"color: #00af00; text-decoration-color: #00af00\">2,080</span> │ dense_2[<span style=\"color: #00af00; text-decoration-color: #00af00\">0</span>][<span style=\"color: #00af00; text-decoration-color: #00af00\">0</span>]     │\n",
       "├─────────────────────┼───────────────────┼────────────┼───────────────────┤\n",
       "│ char_2 (<span style=\"color: #0087ff; text-decoration-color: #0087ff\">Dense</span>)      │ (<span style=\"color: #00d7ff; text-decoration-color: #00d7ff\">None</span>, <span style=\"color: #00af00; text-decoration-color: #00af00\">32</span>)        │      <span style=\"color: #00af00; text-decoration-color: #00af00\">2,080</span> │ dense_3[<span style=\"color: #00af00; text-decoration-color: #00af00\">0</span>][<span style=\"color: #00af00; text-decoration-color: #00af00\">0</span>]     │\n",
       "├─────────────────────┼───────────────────┼────────────┼───────────────────┤\n",
       "│ char_3 (<span style=\"color: #0087ff; text-decoration-color: #0087ff\">Dense</span>)      │ (<span style=\"color: #00d7ff; text-decoration-color: #00d7ff\">None</span>, <span style=\"color: #00af00; text-decoration-color: #00af00\">32</span>)        │      <span style=\"color: #00af00; text-decoration-color: #00af00\">2,080</span> │ dense_4[<span style=\"color: #00af00; text-decoration-color: #00af00\">0</span>][<span style=\"color: #00af00; text-decoration-color: #00af00\">0</span>]     │\n",
       "├─────────────────────┼───────────────────┼────────────┼───────────────────┤\n",
       "│ char_4 (<span style=\"color: #0087ff; text-decoration-color: #0087ff\">Dense</span>)      │ (<span style=\"color: #00d7ff; text-decoration-color: #00d7ff\">None</span>, <span style=\"color: #00af00; text-decoration-color: #00af00\">32</span>)        │      <span style=\"color: #00af00; text-decoration-color: #00af00\">2,080</span> │ dense_5[<span style=\"color: #00af00; text-decoration-color: #00af00\">0</span>][<span style=\"color: #00af00; text-decoration-color: #00af00\">0</span>]     │\n",
       "├─────────────────────┼───────────────────┼────────────┼───────────────────┤\n",
       "│ char_5 (<span style=\"color: #0087ff; text-decoration-color: #0087ff\">Dense</span>)      │ (<span style=\"color: #00d7ff; text-decoration-color: #00d7ff\">None</span>, <span style=\"color: #00af00; text-decoration-color: #00af00\">32</span>)        │      <span style=\"color: #00af00; text-decoration-color: #00af00\">2,080</span> │ dense_6[<span style=\"color: #00af00; text-decoration-color: #00af00\">0</span>][<span style=\"color: #00af00; text-decoration-color: #00af00\">0</span>]     │\n",
       "├─────────────────────┼───────────────────┼────────────┼───────────────────┤\n",
       "│ char_6 (<span style=\"color: #0087ff; text-decoration-color: #0087ff\">Dense</span>)      │ (<span style=\"color: #00d7ff; text-decoration-color: #00d7ff\">None</span>, <span style=\"color: #00af00; text-decoration-color: #00af00\">32</span>)        │      <span style=\"color: #00af00; text-decoration-color: #00af00\">2,080</span> │ dense_7[<span style=\"color: #00af00; text-decoration-color: #00af00\">0</span>][<span style=\"color: #00af00; text-decoration-color: #00af00\">0</span>]     │\n",
       "├─────────────────────┼───────────────────┼────────────┼───────────────────┤\n",
       "│ char_7 (<span style=\"color: #0087ff; text-decoration-color: #0087ff\">Dense</span>)      │ (<span style=\"color: #00d7ff; text-decoration-color: #00d7ff\">None</span>, <span style=\"color: #00af00; text-decoration-color: #00af00\">32</span>)        │      <span style=\"color: #00af00; text-decoration-color: #00af00\">2,080</span> │ dense_8[<span style=\"color: #00af00; text-decoration-color: #00af00\">0</span>][<span style=\"color: #00af00; text-decoration-color: #00af00\">0</span>]     │\n",
       "└─────────────────────┴───────────────────┴────────────┴───────────────────┘\n",
       "</pre>\n"
      ],
      "text/plain": [
       "┏━━━━━━━━━━━━━━━━━━━━━┳━━━━━━━━━━━━━━━━━━━┳━━━━━━━━━━━━┳━━━━━━━━━━━━━━━━━━━┓\n",
       "┃\u001b[1m \u001b[0m\u001b[1mLayer (type)       \u001b[0m\u001b[1m \u001b[0m┃\u001b[1m \u001b[0m\u001b[1mOutput Shape     \u001b[0m\u001b[1m \u001b[0m┃\u001b[1m \u001b[0m\u001b[1m   Param #\u001b[0m\u001b[1m \u001b[0m┃\u001b[1m \u001b[0m\u001b[1mConnected to     \u001b[0m\u001b[1m \u001b[0m┃\n",
       "┡━━━━━━━━━━━━━━━━━━━━━╇━━━━━━━━━━━━━━━━━━━╇━━━━━━━━━━━━╇━━━━━━━━━━━━━━━━━━━┩\n",
       "│ input_layer         │ (\u001b[38;5;45mNone\u001b[0m, \u001b[38;5;34m100\u001b[0m, \u001b[38;5;34m280\u001b[0m,  │          \u001b[38;5;34m0\u001b[0m │ -                 │\n",
       "│ (\u001b[38;5;33mInputLayer\u001b[0m)        │ \u001b[38;5;34m1\u001b[0m)                │            │                   │\n",
       "├─────────────────────┼───────────────────┼────────────┼───────────────────┤\n",
       "│ conv2d (\u001b[38;5;33mConv2D\u001b[0m)     │ (\u001b[38;5;45mNone\u001b[0m, \u001b[38;5;34m100\u001b[0m, \u001b[38;5;34m280\u001b[0m,  │        \u001b[38;5;34m320\u001b[0m │ input_layer[\u001b[38;5;34m0\u001b[0m][\u001b[38;5;34m0\u001b[0m] │\n",
       "│                     │ \u001b[38;5;34m32\u001b[0m)               │            │                   │\n",
       "├─────────────────────┼───────────────────┼────────────┼───────────────────┤\n",
       "│ max_pooling2d       │ (\u001b[38;5;45mNone\u001b[0m, \u001b[38;5;34m50\u001b[0m, \u001b[38;5;34m140\u001b[0m,   │          \u001b[38;5;34m0\u001b[0m │ conv2d[\u001b[38;5;34m0\u001b[0m][\u001b[38;5;34m0\u001b[0m]      │\n",
       "│ (\u001b[38;5;33mMaxPooling2D\u001b[0m)      │ \u001b[38;5;34m32\u001b[0m)               │            │                   │\n",
       "├─────────────────────┼───────────────────┼────────────┼───────────────────┤\n",
       "│ conv2d_1 (\u001b[38;5;33mConv2D\u001b[0m)   │ (\u001b[38;5;45mNone\u001b[0m, \u001b[38;5;34m50\u001b[0m, \u001b[38;5;34m140\u001b[0m,   │     \u001b[38;5;34m18,496\u001b[0m │ max_pooling2d[\u001b[38;5;34m0\u001b[0m]… │\n",
       "│                     │ \u001b[38;5;34m64\u001b[0m)               │            │                   │\n",
       "├─────────────────────┼───────────────────┼────────────┼───────────────────┤\n",
       "│ max_pooling2d_1     │ (\u001b[38;5;45mNone\u001b[0m, \u001b[38;5;34m25\u001b[0m, \u001b[38;5;34m70\u001b[0m,    │          \u001b[38;5;34m0\u001b[0m │ conv2d_1[\u001b[38;5;34m0\u001b[0m][\u001b[38;5;34m0\u001b[0m]    │\n",
       "│ (\u001b[38;5;33mMaxPooling2D\u001b[0m)      │ \u001b[38;5;34m64\u001b[0m)               │            │                   │\n",
       "├─────────────────────┼───────────────────┼────────────┼───────────────────┤\n",
       "│ conv2d_2 (\u001b[38;5;33mConv2D\u001b[0m)   │ (\u001b[38;5;45mNone\u001b[0m, \u001b[38;5;34m25\u001b[0m, \u001b[38;5;34m70\u001b[0m,    │     \u001b[38;5;34m73,856\u001b[0m │ max_pooling2d_1[\u001b[38;5;34m…\u001b[0m │\n",
       "│                     │ \u001b[38;5;34m128\u001b[0m)              │            │                   │\n",
       "├─────────────────────┼───────────────────┼────────────┼───────────────────┤\n",
       "│ max_pooling2d_2     │ (\u001b[38;5;45mNone\u001b[0m, \u001b[38;5;34m12\u001b[0m, \u001b[38;5;34m35\u001b[0m,    │          \u001b[38;5;34m0\u001b[0m │ conv2d_2[\u001b[38;5;34m0\u001b[0m][\u001b[38;5;34m0\u001b[0m]    │\n",
       "│ (\u001b[38;5;33mMaxPooling2D\u001b[0m)      │ \u001b[38;5;34m128\u001b[0m)              │            │                   │\n",
       "├─────────────────────┼───────────────────┼────────────┼───────────────────┤\n",
       "│ conv2d_3 (\u001b[38;5;33mConv2D\u001b[0m)   │ (\u001b[38;5;45mNone\u001b[0m, \u001b[38;5;34m12\u001b[0m, \u001b[38;5;34m35\u001b[0m,    │    \u001b[38;5;34m147,584\u001b[0m │ max_pooling2d_2[\u001b[38;5;34m…\u001b[0m │\n",
       "│                     │ \u001b[38;5;34m128\u001b[0m)              │            │                   │\n",
       "├─────────────────────┼───────────────────┼────────────┼───────────────────┤\n",
       "│ max_pooling2d_3     │ (\u001b[38;5;45mNone\u001b[0m, \u001b[38;5;34m6\u001b[0m, \u001b[38;5;34m17\u001b[0m,     │          \u001b[38;5;34m0\u001b[0m │ conv2d_3[\u001b[38;5;34m0\u001b[0m][\u001b[38;5;34m0\u001b[0m]    │\n",
       "│ (\u001b[38;5;33mMaxPooling2D\u001b[0m)      │ \u001b[38;5;34m128\u001b[0m)              │            │                   │\n",
       "├─────────────────────┼───────────────────┼────────────┼───────────────────┤\n",
       "│ flatten (\u001b[38;5;33mFlatten\u001b[0m)   │ (\u001b[38;5;45mNone\u001b[0m, \u001b[38;5;34m13056\u001b[0m)     │          \u001b[38;5;34m0\u001b[0m │ max_pooling2d_3[\u001b[38;5;34m…\u001b[0m │\n",
       "├─────────────────────┼───────────────────┼────────────┼───────────────────┤\n",
       "│ dense (\u001b[38;5;33mDense\u001b[0m)       │ (\u001b[38;5;45mNone\u001b[0m, \u001b[38;5;34m512\u001b[0m)       │  \u001b[38;5;34m6,685,184\u001b[0m │ flatten[\u001b[38;5;34m0\u001b[0m][\u001b[38;5;34m0\u001b[0m]     │\n",
       "├─────────────────────┼───────────────────┼────────────┼───────────────────┤\n",
       "│ dropout (\u001b[38;5;33mDropout\u001b[0m)   │ (\u001b[38;5;45mNone\u001b[0m, \u001b[38;5;34m512\u001b[0m)       │          \u001b[38;5;34m0\u001b[0m │ dense[\u001b[38;5;34m0\u001b[0m][\u001b[38;5;34m0\u001b[0m]       │\n",
       "├─────────────────────┼───────────────────┼────────────┼───────────────────┤\n",
       "│ dense_1 (\u001b[38;5;33mDense\u001b[0m)     │ (\u001b[38;5;45mNone\u001b[0m, \u001b[38;5;34m64\u001b[0m)        │     \u001b[38;5;34m32,832\u001b[0m │ dropout[\u001b[38;5;34m0\u001b[0m][\u001b[38;5;34m0\u001b[0m]     │\n",
       "├─────────────────────┼───────────────────┼────────────┼───────────────────┤\n",
       "│ dense_2 (\u001b[38;5;33mDense\u001b[0m)     │ (\u001b[38;5;45mNone\u001b[0m, \u001b[38;5;34m64\u001b[0m)        │     \u001b[38;5;34m32,832\u001b[0m │ dropout[\u001b[38;5;34m0\u001b[0m][\u001b[38;5;34m0\u001b[0m]     │\n",
       "├─────────────────────┼───────────────────┼────────────┼───────────────────┤\n",
       "│ dense_3 (\u001b[38;5;33mDense\u001b[0m)     │ (\u001b[38;5;45mNone\u001b[0m, \u001b[38;5;34m64\u001b[0m)        │     \u001b[38;5;34m32,832\u001b[0m │ dropout[\u001b[38;5;34m0\u001b[0m][\u001b[38;5;34m0\u001b[0m]     │\n",
       "├─────────────────────┼───────────────────┼────────────┼───────────────────┤\n",
       "│ dense_4 (\u001b[38;5;33mDense\u001b[0m)     │ (\u001b[38;5;45mNone\u001b[0m, \u001b[38;5;34m64\u001b[0m)        │     \u001b[38;5;34m32,832\u001b[0m │ dropout[\u001b[38;5;34m0\u001b[0m][\u001b[38;5;34m0\u001b[0m]     │\n",
       "├─────────────────────┼───────────────────┼────────────┼───────────────────┤\n",
       "│ dense_5 (\u001b[38;5;33mDense\u001b[0m)     │ (\u001b[38;5;45mNone\u001b[0m, \u001b[38;5;34m64\u001b[0m)        │     \u001b[38;5;34m32,832\u001b[0m │ dropout[\u001b[38;5;34m0\u001b[0m][\u001b[38;5;34m0\u001b[0m]     │\n",
       "├─────────────────────┼───────────────────┼────────────┼───────────────────┤\n",
       "│ dense_6 (\u001b[38;5;33mDense\u001b[0m)     │ (\u001b[38;5;45mNone\u001b[0m, \u001b[38;5;34m64\u001b[0m)        │     \u001b[38;5;34m32,832\u001b[0m │ dropout[\u001b[38;5;34m0\u001b[0m][\u001b[38;5;34m0\u001b[0m]     │\n",
       "├─────────────────────┼───────────────────┼────────────┼───────────────────┤\n",
       "│ dense_7 (\u001b[38;5;33mDense\u001b[0m)     │ (\u001b[38;5;45mNone\u001b[0m, \u001b[38;5;34m64\u001b[0m)        │     \u001b[38;5;34m32,832\u001b[0m │ dropout[\u001b[38;5;34m0\u001b[0m][\u001b[38;5;34m0\u001b[0m]     │\n",
       "├─────────────────────┼───────────────────┼────────────┼───────────────────┤\n",
       "│ dense_8 (\u001b[38;5;33mDense\u001b[0m)     │ (\u001b[38;5;45mNone\u001b[0m, \u001b[38;5;34m64\u001b[0m)        │     \u001b[38;5;34m32,832\u001b[0m │ dropout[\u001b[38;5;34m0\u001b[0m][\u001b[38;5;34m0\u001b[0m]     │\n",
       "├─────────────────────┼───────────────────┼────────────┼───────────────────┤\n",
       "│ char_0 (\u001b[38;5;33mDense\u001b[0m)      │ (\u001b[38;5;45mNone\u001b[0m, \u001b[38;5;34m32\u001b[0m)        │      \u001b[38;5;34m2,080\u001b[0m │ dense_1[\u001b[38;5;34m0\u001b[0m][\u001b[38;5;34m0\u001b[0m]     │\n",
       "├─────────────────────┼───────────────────┼────────────┼───────────────────┤\n",
       "│ char_1 (\u001b[38;5;33mDense\u001b[0m)      │ (\u001b[38;5;45mNone\u001b[0m, \u001b[38;5;34m32\u001b[0m)        │      \u001b[38;5;34m2,080\u001b[0m │ dense_2[\u001b[38;5;34m0\u001b[0m][\u001b[38;5;34m0\u001b[0m]     │\n",
       "├─────────────────────┼───────────────────┼────────────┼───────────────────┤\n",
       "│ char_2 (\u001b[38;5;33mDense\u001b[0m)      │ (\u001b[38;5;45mNone\u001b[0m, \u001b[38;5;34m32\u001b[0m)        │      \u001b[38;5;34m2,080\u001b[0m │ dense_3[\u001b[38;5;34m0\u001b[0m][\u001b[38;5;34m0\u001b[0m]     │\n",
       "├─────────────────────┼───────────────────┼────────────┼───────────────────┤\n",
       "│ char_3 (\u001b[38;5;33mDense\u001b[0m)      │ (\u001b[38;5;45mNone\u001b[0m, \u001b[38;5;34m32\u001b[0m)        │      \u001b[38;5;34m2,080\u001b[0m │ dense_4[\u001b[38;5;34m0\u001b[0m][\u001b[38;5;34m0\u001b[0m]     │\n",
       "├─────────────────────┼───────────────────┼────────────┼───────────────────┤\n",
       "│ char_4 (\u001b[38;5;33mDense\u001b[0m)      │ (\u001b[38;5;45mNone\u001b[0m, \u001b[38;5;34m32\u001b[0m)        │      \u001b[38;5;34m2,080\u001b[0m │ dense_5[\u001b[38;5;34m0\u001b[0m][\u001b[38;5;34m0\u001b[0m]     │\n",
       "├─────────────────────┼───────────────────┼────────────┼───────────────────┤\n",
       "│ char_5 (\u001b[38;5;33mDense\u001b[0m)      │ (\u001b[38;5;45mNone\u001b[0m, \u001b[38;5;34m32\u001b[0m)        │      \u001b[38;5;34m2,080\u001b[0m │ dense_6[\u001b[38;5;34m0\u001b[0m][\u001b[38;5;34m0\u001b[0m]     │\n",
       "├─────────────────────┼───────────────────┼────────────┼───────────────────┤\n",
       "│ char_6 (\u001b[38;5;33mDense\u001b[0m)      │ (\u001b[38;5;45mNone\u001b[0m, \u001b[38;5;34m32\u001b[0m)        │      \u001b[38;5;34m2,080\u001b[0m │ dense_7[\u001b[38;5;34m0\u001b[0m][\u001b[38;5;34m0\u001b[0m]     │\n",
       "├─────────────────────┼───────────────────┼────────────┼───────────────────┤\n",
       "│ char_7 (\u001b[38;5;33mDense\u001b[0m)      │ (\u001b[38;5;45mNone\u001b[0m, \u001b[38;5;34m32\u001b[0m)        │      \u001b[38;5;34m2,080\u001b[0m │ dense_8[\u001b[38;5;34m0\u001b[0m][\u001b[38;5;34m0\u001b[0m]     │\n",
       "└─────────────────────┴───────────────────┴────────────┴───────────────────┘\n"
      ]
     },
     "metadata": {},
     "output_type": "display_data"
    },
    {
     "data": {
      "text/html": [
       "<pre style=\"white-space:pre;overflow-x:auto;line-height:normal;font-family:Menlo,'DejaVu Sans Mono',consolas,'Courier New',monospace\"><span style=\"font-weight: bold\"> Total params: </span><span style=\"color: #00af00; text-decoration-color: #00af00\">7,204,736</span> (27.48 MB)\n",
       "</pre>\n"
      ],
      "text/plain": [
       "\u001b[1m Total params: \u001b[0m\u001b[38;5;34m7,204,736\u001b[0m (27.48 MB)\n"
      ]
     },
     "metadata": {},
     "output_type": "display_data"
    },
    {
     "data": {
      "text/html": [
       "<pre style=\"white-space:pre;overflow-x:auto;line-height:normal;font-family:Menlo,'DejaVu Sans Mono',consolas,'Courier New',monospace\"><span style=\"font-weight: bold\"> Trainable params: </span><span style=\"color: #00af00; text-decoration-color: #00af00\">7,204,736</span> (27.48 MB)\n",
       "</pre>\n"
      ],
      "text/plain": [
       "\u001b[1m Trainable params: \u001b[0m\u001b[38;5;34m7,204,736\u001b[0m (27.48 MB)\n"
      ]
     },
     "metadata": {},
     "output_type": "display_data"
    },
    {
     "data": {
      "text/html": [
       "<pre style=\"white-space:pre;overflow-x:auto;line-height:normal;font-family:Menlo,'DejaVu Sans Mono',consolas,'Courier New',monospace\"><span style=\"font-weight: bold\"> Non-trainable params: </span><span style=\"color: #00af00; text-decoration-color: #00af00\">0</span> (0.00 B)\n",
       "</pre>\n"
      ],
      "text/plain": [
       "\u001b[1m Non-trainable params: \u001b[0m\u001b[38;5;34m0\u001b[0m (0.00 B)\n"
      ]
     },
     "metadata": {},
     "output_type": "display_data"
    }
   ],
   "source": [
    "# Definir la arquitectura del modelo OCR\n",
    "def crear_modelo():\n",
    "    \"\"\"Crea un modelo CNN para OCR.\"\"\"\n",
    "    # Entrada\n",
    "    inputs = layers.Input(shape=(IMG_HEIGHT, IMG_WIDTH, 1))\n",
    "    \n",
    "    # Convoluciones\n",
    "    x = layers.Conv2D(32, (3, 3), activation='relu', padding='same')(inputs)\n",
    "    x = layers.MaxPooling2D((2, 2))(x)\n",
    "    x = layers.Conv2D(64, (3, 3), activation='relu', padding='same')(x)\n",
    "    x = layers.MaxPooling2D((2, 2))(x)\n",
    "    x = layers.Conv2D(128, (3, 3), activation='relu', padding='same')(x)\n",
    "    x = layers.MaxPooling2D((2, 2))(x)\n",
    "    x = layers.Conv2D(128, (3, 3), activation='relu', padding='same')(x)\n",
    "    x = layers.MaxPooling2D((2, 2))(x)\n",
    "    \n",
    "    # Reshape para LSTM - Arreglando el problema de dimensionalidad\n",
    "    x = layers.Flatten()(x)\n",
    "    x = layers.Dense(512, activation='relu')(x)\n",
    "    x = layers.Dropout(0.2)(x)\n",
    "    \n",
    "    # Dividir las características para cada posición de carácter\n",
    "    outputs = []\n",
    "    for i in range(MAX_LENGTH):\n",
    "        char_output = layers.Dense(64, activation='relu')(x)\n",
    "        char_output = layers.Dense(len(CHARS), activation='softmax', name=f'char_{i}')(char_output)\n",
    "        outputs.append(char_output)\n",
    "    \n",
    "    # Crear el modelo\n",
    "    model = models.Model(inputs=inputs, outputs=outputs)\n",
    "    \n",
    "    # Definir las pérdidas y métricas para cada salida\n",
    "    losses = {f'char_{i}': 'categorical_crossentropy' for i in range(MAX_LENGTH)}\n",
    "    metrics = {f'char_{i}': 'accuracy' for i in range(MAX_LENGTH)}\n",
    "    \n",
    "    # Compilar el modelo\n",
    "    model.compile(\n",
    "        optimizer=optimizers.Adam(learning_rate=0.001),\n",
    "        loss=losses,\n",
    "        metrics=metrics\n",
    "    )\n",
    "    \n",
    "    return model\n",
    "\n",
    "# Crear el modelo\n",
    "model = crear_modelo()\n",
    "\n",
    "# Mostrar el resumen del modelo\n",
    "model.summary()"
   ]
  },
  {
   "cell_type": "markdown",
   "metadata": {},
   "source": [
    "# Entrenar el Modelo\n",
    "Entrenar el modelo utilizando los datos de entrenamiento y validación, con callbacks para guardar el mejor modelo y aplicar early stopping."
   ]
  },
  {
   "cell_type": "code",
   "execution_count": 5,
   "metadata": {},
   "outputs": [
    {
     "name": "stdout",
     "output_type": "stream",
     "text": [
      "Epoch 1/30\n",
      "\u001b[1m1/1\u001b[0m \u001b[32m━━━━━━━━━━━━━━━━━━━━\u001b[0m\u001b[37m\u001b[0m \u001b[1m0s\u001b[0m 3s/step - char_0_accuracy: 0.0000e+00 - char_0_loss: 3.4936 - char_1_accuracy: 0.0312 - char_1_loss: 3.4491 - char_2_accuracy: 0.1562 - char_2_loss: 3.4345 - char_3_accuracy: 0.0000e+00 - char_3_loss: 3.4630 - char_4_accuracy: 0.0000e+00 - char_4_loss: 3.5129 - char_5_accuracy: 0.0625 - char_5_loss: 3.4368 - char_6_accuracy: 0.0000e+00 - char_6_loss: 3.5107 - char_7_accuracy: 0.0000e+00 - char_7_loss: 3.4918 - loss: 27.7924"
     ]
    },
    {
     "name": "stderr",
     "output_type": "stream",
     "text": [
      "WARNING:absl:You are saving your model as an HDF5 file via `model.save()` or `keras.saving.save_model(model)`. This file format is considered legacy. We recommend using instead the native Keras format, e.g. `model.save('my_model.keras')` or `keras.saving.save_model(model, 'my_model.keras')`. \n"
     ]
    },
    {
     "name": "stdout",
     "output_type": "stream",
     "text": [
      "\u001b[1m1/1\u001b[0m \u001b[32m━━━━━━━━━━━━━━━━━━━━\u001b[0m\u001b[37m\u001b[0m \u001b[1m4s\u001b[0m 4s/step - char_0_accuracy: 0.0000e+00 - char_0_loss: 3.4936 - char_1_accuracy: 0.0312 - char_1_loss: 3.4491 - char_2_accuracy: 0.1562 - char_2_loss: 3.4345 - char_3_accuracy: 0.0000e+00 - char_3_loss: 3.4630 - char_4_accuracy: 0.0000e+00 - char_4_loss: 3.5129 - char_5_accuracy: 0.0625 - char_5_loss: 3.4368 - char_6_accuracy: 0.0000e+00 - char_6_loss: 3.5107 - char_7_accuracy: 0.0000e+00 - char_7_loss: 3.4918 - loss: 27.7924 - val_char_0_accuracy: 0.3750 - val_char_0_loss: 3.0950 - val_char_1_accuracy: 0.0000e+00 - val_char_1_loss: 3.1483 - val_char_2_accuracy: 0.1250 - val_char_2_loss: 3.2956 - val_char_3_accuracy: 0.1250 - val_char_3_loss: 3.1977 - val_char_4_accuracy: 1.0000 - val_char_4_loss: 1.9815 - val_char_5_accuracy: 0.0000e+00 - val_char_5_loss: 3.2976 - val_char_6_accuracy: 0.0000e+00 - val_char_6_loss: 3.1771 - val_char_7_accuracy: 0.0000e+00 - val_char_7_loss: 3.5995 - val_loss: 24.7923\n",
      "Epoch 2/30\n",
      "\u001b[1m1/1\u001b[0m \u001b[32m━━━━━━━━━━━━━━━━━━━━\u001b[0m\u001b[37m\u001b[0m \u001b[1m0s\u001b[0m 109ms/step - char_0_accuracy: 0.2812 - char_0_loss: 3.1829 - char_1_accuracy: 0.0625 - char_1_loss: 3.2714 - char_2_accuracy: 0.1562 - char_2_loss: 3.1412 - char_3_accuracy: 0.0000e+00 - char_3_loss: 3.3181 - char_4_accuracy: 1.0000 - char_4_loss: 1.9849 - char_5_accuracy: 0.0312 - char_5_loss: 3.3282 - char_6_accuracy: 0.0312 - char_6_loss: 3.2399 - char_7_accuracy: 0.0000e+00 - char_7_loss: 3.4903 - loss: 24.9568"
     ]
    },
    {
     "name": "stderr",
     "output_type": "stream",
     "text": [
      "WARNING:absl:You are saving your model as an HDF5 file via `model.save()` or `keras.saving.save_model(model)`. This file format is considered legacy. We recommend using instead the native Keras format, e.g. `model.save('my_model.keras')` or `keras.saving.save_model(model, 'my_model.keras')`. \n"
     ]
    },
    {
     "name": "stdout",
     "output_type": "stream",
     "text": [
      "\u001b[1m1/1\u001b[0m \u001b[32m━━━━━━━━━━━━━━━━━━━━\u001b[0m\u001b[37m\u001b[0m \u001b[1m0s\u001b[0m 297ms/step - char_0_accuracy: 0.2812 - char_0_loss: 3.1829 - char_1_accuracy: 0.0625 - char_1_loss: 3.2714 - char_2_accuracy: 0.1562 - char_2_loss: 3.1412 - char_3_accuracy: 0.0000e+00 - char_3_loss: 3.3181 - char_4_accuracy: 1.0000 - char_4_loss: 1.9849 - char_5_accuracy: 0.0312 - char_5_loss: 3.3282 - char_6_accuracy: 0.0312 - char_6_loss: 3.2399 - char_7_accuracy: 0.0000e+00 - char_7_loss: 3.4903 - loss: 24.9568 - val_char_0_accuracy: 0.3750 - val_char_0_loss: 2.9902 - val_char_1_accuracy: 0.3750 - val_char_1_loss: 2.3331 - val_char_2_accuracy: 0.1250 - val_char_2_loss: 3.4670 - val_char_3_accuracy: 0.3750 - val_char_3_loss: 2.7708 - val_char_4_accuracy: 1.0000 - val_char_4_loss: 0.0677 - val_char_5_accuracy: 0.1250 - val_char_5_loss: 3.0650 - val_char_6_accuracy: 0.3750 - val_char_6_loss: 2.2842 - val_char_7_accuracy: 0.0000e+00 - val_char_7_loss: 3.5679 - val_loss: 20.5460\n",
      "Epoch 3/30\n",
      "\u001b[1m1/1\u001b[0m \u001b[32m━━━━━━━━━━━━━━━━━━━━\u001b[0m\u001b[37m\u001b[0m \u001b[1m0s\u001b[0m 106ms/step - char_0_accuracy: 0.2812 - char_0_loss: 3.2630 - char_1_accuracy: 0.1562 - char_1_loss: 2.9671 - char_2_accuracy: 0.1250 - char_2_loss: 2.9581 - char_3_accuracy: 0.1250 - char_3_loss: 3.3862 - char_4_accuracy: 1.0000 - char_4_loss: 0.0915 - char_5_accuracy: 0.1562 - char_5_loss: 3.4235 - char_6_accuracy: 0.2188 - char_6_loss: 2.9509 - char_7_accuracy: 0.0000e+00 - char_7_loss: 3.3814 - loss: 22.4216"
     ]
    },
    {
     "name": "stderr",
     "output_type": "stream",
     "text": [
      "WARNING:absl:You are saving your model as an HDF5 file via `model.save()` or `keras.saving.save_model(model)`. This file format is considered legacy. We recommend using instead the native Keras format, e.g. `model.save('my_model.keras')` or `keras.saving.save_model(model, 'my_model.keras')`. \n"
     ]
    },
    {
     "name": "stdout",
     "output_type": "stream",
     "text": [
      "\u001b[1m1/1\u001b[0m \u001b[32m━━━━━━━━━━━━━━━━━━━━\u001b[0m\u001b[37m\u001b[0m \u001b[1m0s\u001b[0m 290ms/step - char_0_accuracy: 0.2812 - char_0_loss: 3.2630 - char_1_accuracy: 0.1562 - char_1_loss: 2.9671 - char_2_accuracy: 0.1250 - char_2_loss: 2.9581 - char_3_accuracy: 0.1250 - char_3_loss: 3.3862 - char_4_accuracy: 1.0000 - char_4_loss: 0.0915 - char_5_accuracy: 0.1562 - char_5_loss: 3.4235 - char_6_accuracy: 0.2188 - char_6_loss: 2.9509 - char_7_accuracy: 0.0000e+00 - char_7_loss: 3.3814 - loss: 22.4216 - val_char_0_accuracy: 0.2500 - val_char_0_loss: 2.9136 - val_char_1_accuracy: 0.3750 - val_char_1_loss: 2.2305 - val_char_2_accuracy: 0.1250 - val_char_2_loss: 2.9138 - val_char_3_accuracy: 0.3750 - val_char_3_loss: 2.5098 - val_char_4_accuracy: 1.0000 - val_char_4_loss: 0.0617 - val_char_5_accuracy: 0.1250 - val_char_5_loss: 2.9865 - val_char_6_accuracy: 0.3750 - val_char_6_loss: 2.2482 - val_char_7_accuracy: 0.0000e+00 - val_char_7_loss: 3.1949 - val_loss: 19.0590\n",
      "Epoch 4/30\n",
      "\u001b[1m1/1\u001b[0m \u001b[32m━━━━━━━━━━━━━━━━━━━━\u001b[0m\u001b[37m\u001b[0m \u001b[1m0s\u001b[0m 111ms/step - char_0_accuracy: 0.1562 - char_0_loss: 2.8057 - char_1_accuracy: 0.3438 - char_1_loss: 2.7028 - char_2_accuracy: 0.1875 - char_2_loss: 2.6637 - char_3_accuracy: 0.2812 - char_3_loss: 2.8156 - char_4_accuracy: 1.0000 - char_4_loss: 0.0870 - char_5_accuracy: 0.0938 - char_5_loss: 3.2200 - char_6_accuracy: 0.2188 - char_6_loss: 2.6914 - char_7_accuracy: 0.0938 - char_7_loss: 3.0575 - loss: 20.0437"
     ]
    },
    {
     "name": "stderr",
     "output_type": "stream",
     "text": [
      "WARNING:absl:You are saving your model as an HDF5 file via `model.save()` or `keras.saving.save_model(model)`. This file format is considered legacy. We recommend using instead the native Keras format, e.g. `model.save('my_model.keras')` or `keras.saving.save_model(model, 'my_model.keras')`. \n"
     ]
    },
    {
     "name": "stdout",
     "output_type": "stream",
     "text": [
      "\u001b[1m1/1\u001b[0m \u001b[32m━━━━━━━━━━━━━━━━━━━━\u001b[0m\u001b[37m\u001b[0m \u001b[1m0s\u001b[0m 292ms/step - char_0_accuracy: 0.1562 - char_0_loss: 2.8057 - char_1_accuracy: 0.3438 - char_1_loss: 2.7028 - char_2_accuracy: 0.1875 - char_2_loss: 2.6637 - char_3_accuracy: 0.2812 - char_3_loss: 2.8156 - char_4_accuracy: 1.0000 - char_4_loss: 0.0870 - char_5_accuracy: 0.0938 - char_5_loss: 3.2200 - char_6_accuracy: 0.2188 - char_6_loss: 2.6914 - char_7_accuracy: 0.0938 - char_7_loss: 3.0575 - loss: 20.0437 - val_char_0_accuracy: 0.2500 - val_char_0_loss: 2.8291 - val_char_1_accuracy: 0.3750 - val_char_1_loss: 2.2406 - val_char_2_accuracy: 0.1250 - val_char_2_loss: 2.7358 - val_char_3_accuracy: 0.3750 - val_char_3_loss: 2.4349 - val_char_4_accuracy: 1.0000 - val_char_4_loss: 0.0581 - val_char_5_accuracy: 0.0000e+00 - val_char_5_loss: 2.9079 - val_char_6_accuracy: 0.3750 - val_char_6_loss: 2.3693 - val_char_7_accuracy: 0.0000e+00 - val_char_7_loss: 3.0345 - val_loss: 18.6102\n",
      "Epoch 5/30\n",
      "\u001b[1m1/1\u001b[0m \u001b[32m━━━━━━━━━━━━━━━━━━━━\u001b[0m\u001b[37m\u001b[0m \u001b[1m0s\u001b[0m 111ms/step - char_0_accuracy: 0.2188 - char_0_loss: 2.8146 - char_1_accuracy: 0.3438 - char_1_loss: 2.6455 - char_2_accuracy: 0.3125 - char_2_loss: 2.5041 - char_3_accuracy: 0.3125 - char_3_loss: 2.6523 - char_4_accuracy: 1.0000 - char_4_loss: 0.0831 - char_5_accuracy: 0.0938 - char_5_loss: 2.9679 - char_6_accuracy: 0.1250 - char_6_loss: 2.7384 - char_7_accuracy: 0.1250 - char_7_loss: 2.9150 - loss: 19.3209"
     ]
    },
    {
     "name": "stderr",
     "output_type": "stream",
     "text": [
      "WARNING:absl:You are saving your model as an HDF5 file via `model.save()` or `keras.saving.save_model(model)`. This file format is considered legacy. We recommend using instead the native Keras format, e.g. `model.save('my_model.keras')` or `keras.saving.save_model(model, 'my_model.keras')`. \n"
     ]
    },
    {
     "name": "stdout",
     "output_type": "stream",
     "text": [
      "\u001b[1m1/1\u001b[0m \u001b[32m━━━━━━━━━━━━━━━━━━━━\u001b[0m\u001b[37m\u001b[0m \u001b[1m0s\u001b[0m 298ms/step - char_0_accuracy: 0.2188 - char_0_loss: 2.8146 - char_1_accuracy: 0.3438 - char_1_loss: 2.6455 - char_2_accuracy: 0.3125 - char_2_loss: 2.5041 - char_3_accuracy: 0.3125 - char_3_loss: 2.6523 - char_4_accuracy: 1.0000 - char_4_loss: 0.0831 - char_5_accuracy: 0.0938 - char_5_loss: 2.9679 - char_6_accuracy: 0.1250 - char_6_loss: 2.7384 - char_7_accuracy: 0.1250 - char_7_loss: 2.9150 - loss: 19.3209 - val_char_0_accuracy: 0.2500 - val_char_0_loss: 2.6660 - val_char_1_accuracy: 0.3750 - val_char_1_loss: 2.1573 - val_char_2_accuracy: 0.1250 - val_char_2_loss: 2.6271 - val_char_3_accuracy: 0.3750 - val_char_3_loss: 2.2877 - val_char_4_accuracy: 1.0000 - val_char_4_loss: 0.0230 - val_char_5_accuracy: 0.0000e+00 - val_char_5_loss: 2.8220 - val_char_6_accuracy: 0.0000e+00 - val_char_6_loss: 2.3493 - val_char_7_accuracy: 0.0000e+00 - val_char_7_loss: 2.8211 - val_loss: 17.7534\n",
      "Epoch 6/30\n",
      "\u001b[1m1/1\u001b[0m \u001b[32m━━━━━━━━━━━━━━━━━━━━\u001b[0m\u001b[37m\u001b[0m \u001b[1m0s\u001b[0m 110ms/step - char_0_accuracy: 0.2188 - char_0_loss: 2.7394 - char_1_accuracy: 0.3438 - char_1_loss: 2.5313 - char_2_accuracy: 0.1875 - char_2_loss: 2.4994 - char_3_accuracy: 0.2812 - char_3_loss: 2.5156 - char_4_accuracy: 1.0000 - char_4_loss: 0.0273 - char_5_accuracy: 0.0938 - char_5_loss: 3.0294 - char_6_accuracy: 0.0938 - char_6_loss: 2.6887 - char_7_accuracy: 0.0938 - char_7_loss: 2.6632 - loss: 18.6943"
     ]
    },
    {
     "name": "stderr",
     "output_type": "stream",
     "text": [
      "WARNING:absl:You are saving your model as an HDF5 file via `model.save()` or `keras.saving.save_model(model)`. This file format is considered legacy. We recommend using instead the native Keras format, e.g. `model.save('my_model.keras')` or `keras.saving.save_model(model, 'my_model.keras')`. \n"
     ]
    },
    {
     "name": "stdout",
     "output_type": "stream",
     "text": [
      "\u001b[1m1/1\u001b[0m \u001b[32m━━━━━━━━━━━━━━━━━━━━\u001b[0m\u001b[37m\u001b[0m \u001b[1m0s\u001b[0m 296ms/step - char_0_accuracy: 0.2188 - char_0_loss: 2.7394 - char_1_accuracy: 0.3438 - char_1_loss: 2.5313 - char_2_accuracy: 0.1875 - char_2_loss: 2.4994 - char_3_accuracy: 0.2812 - char_3_loss: 2.5156 - char_4_accuracy: 1.0000 - char_4_loss: 0.0273 - char_5_accuracy: 0.0938 - char_5_loss: 3.0294 - char_6_accuracy: 0.0938 - char_6_loss: 2.6887 - char_7_accuracy: 0.0938 - char_7_loss: 2.6632 - loss: 18.6943 - val_char_0_accuracy: 0.1250 - val_char_0_loss: 2.5368 - val_char_1_accuracy: 0.3750 - val_char_1_loss: 2.0588 - val_char_2_accuracy: 0.1250 - val_char_2_loss: 2.5455 - val_char_3_accuracy: 0.3750 - val_char_3_loss: 2.1557 - val_char_4_accuracy: 1.0000 - val_char_4_loss: 0.0073 - val_char_5_accuracy: 0.0000e+00 - val_char_5_loss: 2.7257 - val_char_6_accuracy: 0.0000e+00 - val_char_6_loss: 2.2528 - val_char_7_accuracy: 0.0000e+00 - val_char_7_loss: 2.6235 - val_loss: 16.9061\n",
      "Epoch 7/30\n",
      "\u001b[1m1/1\u001b[0m \u001b[32m━━━━━━━━━━━━━━━━━━━━\u001b[0m\u001b[37m\u001b[0m \u001b[1m0s\u001b[0m 109ms/step - char_0_accuracy: 0.0938 - char_0_loss: 2.5454 - char_1_accuracy: 0.3750 - char_1_loss: 2.4835 - char_2_accuracy: 0.2188 - char_2_loss: 2.3001 - char_3_accuracy: 0.2188 - char_3_loss: 2.4015 - char_4_accuracy: 1.0000 - char_4_loss: 0.0114 - char_5_accuracy: 0.2188 - char_5_loss: 2.9095 - char_6_accuracy: 0.2500 - char_6_loss: 2.3673 - char_7_accuracy: 0.2812 - char_7_loss: 2.4087 - loss: 17.4273"
     ]
    },
    {
     "name": "stderr",
     "output_type": "stream",
     "text": [
      "WARNING:absl:You are saving your model as an HDF5 file via `model.save()` or `keras.saving.save_model(model)`. This file format is considered legacy. We recommend using instead the native Keras format, e.g. `model.save('my_model.keras')` or `keras.saving.save_model(model, 'my_model.keras')`. \n"
     ]
    },
    {
     "name": "stdout",
     "output_type": "stream",
     "text": [
      "\u001b[1m1/1\u001b[0m \u001b[32m━━━━━━━━━━━━━━━━━━━━\u001b[0m\u001b[37m\u001b[0m \u001b[1m0s\u001b[0m 290ms/step - char_0_accuracy: 0.0938 - char_0_loss: 2.5454 - char_1_accuracy: 0.3750 - char_1_loss: 2.4835 - char_2_accuracy: 0.2188 - char_2_loss: 2.3001 - char_3_accuracy: 0.2188 - char_3_loss: 2.4015 - char_4_accuracy: 1.0000 - char_4_loss: 0.0114 - char_5_accuracy: 0.2188 - char_5_loss: 2.9095 - char_6_accuracy: 0.2500 - char_6_loss: 2.3673 - char_7_accuracy: 0.2812 - char_7_loss: 2.4087 - loss: 17.4273 - val_char_0_accuracy: 0.1250 - val_char_0_loss: 2.4739 - val_char_1_accuracy: 0.3750 - val_char_1_loss: 1.8962 - val_char_2_accuracy: 0.1250 - val_char_2_loss: 2.4475 - val_char_3_accuracy: 0.3750 - val_char_3_loss: 2.0651 - val_char_4_accuracy: 1.0000 - val_char_4_loss: 0.0020 - val_char_5_accuracy: 0.0000e+00 - val_char_5_loss: 2.6475 - val_char_6_accuracy: 0.3750 - val_char_6_loss: 2.1545 - val_char_7_accuracy: 0.3750 - val_char_7_loss: 2.5015 - val_loss: 16.1881\n",
      "Epoch 8/30\n",
      "\u001b[1m1/1\u001b[0m \u001b[32m━━━━━━━━━━━━━━━━━━━━\u001b[0m\u001b[37m\u001b[0m \u001b[1m0s\u001b[0m 110ms/step - char_0_accuracy: 0.1250 - char_0_loss: 2.5292 - char_1_accuracy: 0.3750 - char_1_loss: 2.3298 - char_2_accuracy: 0.0938 - char_2_loss: 2.4376 - char_3_accuracy: 0.3125 - char_3_loss: 2.2741 - char_4_accuracy: 1.0000 - char_4_loss: 0.0037 - char_5_accuracy: 0.0312 - char_5_loss: 2.9129 - char_6_accuracy: 0.2500 - char_6_loss: 2.1149 - char_7_accuracy: 0.2188 - char_7_loss: 2.2290 - loss: 16.8313"
     ]
    },
    {
     "name": "stderr",
     "output_type": "stream",
     "text": [
      "WARNING:absl:You are saving your model as an HDF5 file via `model.save()` or `keras.saving.save_model(model)`. This file format is considered legacy. We recommend using instead the native Keras format, e.g. `model.save('my_model.keras')` or `keras.saving.save_model(model, 'my_model.keras')`. \n"
     ]
    },
    {
     "name": "stdout",
     "output_type": "stream",
     "text": [
      "\u001b[1m1/1\u001b[0m \u001b[32m━━━━━━━━━━━━━━━━━━━━\u001b[0m\u001b[37m\u001b[0m \u001b[1m0s\u001b[0m 281ms/step - char_0_accuracy: 0.1250 - char_0_loss: 2.5292 - char_1_accuracy: 0.3750 - char_1_loss: 2.3298 - char_2_accuracy: 0.0938 - char_2_loss: 2.4376 - char_3_accuracy: 0.3125 - char_3_loss: 2.2741 - char_4_accuracy: 1.0000 - char_4_loss: 0.0037 - char_5_accuracy: 0.0312 - char_5_loss: 2.9129 - char_6_accuracy: 0.2500 - char_6_loss: 2.1149 - char_7_accuracy: 0.2188 - char_7_loss: 2.2290 - loss: 16.8313 - val_char_0_accuracy: 0.3750 - val_char_0_loss: 2.3984 - val_char_1_accuracy: 0.3750 - val_char_1_loss: 1.7505 - val_char_2_accuracy: 0.1250 - val_char_2_loss: 2.3174 - val_char_3_accuracy: 0.3750 - val_char_3_loss: 2.0566 - val_char_4_accuracy: 1.0000 - val_char_4_loss: 0.0012 - val_char_5_accuracy: 0.1250 - val_char_5_loss: 2.5743 - val_char_6_accuracy: 0.3750 - val_char_6_loss: 2.1096 - val_char_7_accuracy: 0.0000e+00 - val_char_7_loss: 2.4410 - val_loss: 15.6490\n",
      "Epoch 9/30\n",
      "\u001b[1m1/1\u001b[0m \u001b[32m━━━━━━━━━━━━━━━━━━━━\u001b[0m\u001b[37m\u001b[0m \u001b[1m0s\u001b[0m 108ms/step - char_0_accuracy: 0.3438 - char_0_loss: 2.2799 - char_1_accuracy: 0.2500 - char_1_loss: 2.2890 - char_2_accuracy: 0.3125 - char_2_loss: 2.2547 - char_3_accuracy: 0.2812 - char_3_loss: 2.0265 - char_4_accuracy: 1.0000 - char_4_loss: 0.0013 - char_5_accuracy: 0.1250 - char_5_loss: 2.8260 - char_6_accuracy: 0.2812 - char_6_loss: 2.3280 - char_7_accuracy: 0.1875 - char_7_loss: 2.3458 - loss: 16.3513"
     ]
    },
    {
     "name": "stderr",
     "output_type": "stream",
     "text": [
      "WARNING:absl:You are saving your model as an HDF5 file via `model.save()` or `keras.saving.save_model(model)`. This file format is considered legacy. We recommend using instead the native Keras format, e.g. `model.save('my_model.keras')` or `keras.saving.save_model(model, 'my_model.keras')`. \n"
     ]
    },
    {
     "name": "stdout",
     "output_type": "stream",
     "text": [
      "\u001b[1m1/1\u001b[0m \u001b[32m━━━━━━━━━━━━━━━━━━━━\u001b[0m\u001b[37m\u001b[0m \u001b[1m0s\u001b[0m 274ms/step - char_0_accuracy: 0.3438 - char_0_loss: 2.2799 - char_1_accuracy: 0.2500 - char_1_loss: 2.2890 - char_2_accuracy: 0.3125 - char_2_loss: 2.2547 - char_3_accuracy: 0.2812 - char_3_loss: 2.0265 - char_4_accuracy: 1.0000 - char_4_loss: 0.0013 - char_5_accuracy: 0.1250 - char_5_loss: 2.8260 - char_6_accuracy: 0.2812 - char_6_loss: 2.3280 - char_7_accuracy: 0.1875 - char_7_loss: 2.3458 - loss: 16.3513 - val_char_0_accuracy: 0.3750 - val_char_0_loss: 2.3011 - val_char_1_accuracy: 0.3750 - val_char_1_loss: 1.6886 - val_char_2_accuracy: 0.1250 - val_char_2_loss: 2.1926 - val_char_3_accuracy: 0.3750 - val_char_3_loss: 2.0486 - val_char_4_accuracy: 1.0000 - val_char_4_loss: 0.0013 - val_char_5_accuracy: 0.1250 - val_char_5_loss: 2.5523 - val_char_6_accuracy: 0.3750 - val_char_6_loss: 2.1084 - val_char_7_accuracy: 0.3750 - val_char_7_loss: 2.3626 - val_loss: 15.2554\n",
      "Epoch 10/30\n",
      "\u001b[1m1/1\u001b[0m \u001b[32m━━━━━━━━━━━━━━━━━━━━\u001b[0m\u001b[37m\u001b[0m \u001b[1m0s\u001b[0m 108ms/step - char_0_accuracy: 0.3125 - char_0_loss: 2.1752 - char_1_accuracy: 0.3750 - char_1_loss: 2.1873 - char_2_accuracy: 0.2188 - char_2_loss: 2.0953 - char_3_accuracy: 0.2188 - char_3_loss: 2.1567 - char_4_accuracy: 1.0000 - char_4_loss: 0.0024 - char_5_accuracy: 0.2188 - char_5_loss: 2.7188 - char_6_accuracy: 0.2500 - char_6_loss: 2.3548 - char_7_accuracy: 0.1250 - char_7_loss: 2.3040 - loss: 15.9947"
     ]
    },
    {
     "name": "stderr",
     "output_type": "stream",
     "text": [
      "WARNING:absl:You are saving your model as an HDF5 file via `model.save()` or `keras.saving.save_model(model)`. This file format is considered legacy. We recommend using instead the native Keras format, e.g. `model.save('my_model.keras')` or `keras.saving.save_model(model, 'my_model.keras')`. \n"
     ]
    },
    {
     "name": "stdout",
     "output_type": "stream",
     "text": [
      "\u001b[1m1/1\u001b[0m \u001b[32m━━━━━━━━━━━━━━━━━━━━\u001b[0m\u001b[37m\u001b[0m \u001b[1m0s\u001b[0m 274ms/step - char_0_accuracy: 0.3125 - char_0_loss: 2.1752 - char_1_accuracy: 0.3750 - char_1_loss: 2.1873 - char_2_accuracy: 0.2188 - char_2_loss: 2.0953 - char_3_accuracy: 0.2188 - char_3_loss: 2.1567 - char_4_accuracy: 1.0000 - char_4_loss: 0.0024 - char_5_accuracy: 0.2188 - char_5_loss: 2.7188 - char_6_accuracy: 0.2500 - char_6_loss: 2.3548 - char_7_accuracy: 0.1250 - char_7_loss: 2.3040 - loss: 15.9947 - val_char_0_accuracy: 0.3750 - val_char_0_loss: 2.2433 - val_char_1_accuracy: 0.3750 - val_char_1_loss: 1.6631 - val_char_2_accuracy: 0.2500 - val_char_2_loss: 2.1072 - val_char_3_accuracy: 0.3750 - val_char_3_loss: 2.0254 - val_char_4_accuracy: 1.0000 - val_char_4_loss: 0.0012 - val_char_5_accuracy: 0.1250 - val_char_5_loss: 2.5411 - val_char_6_accuracy: 0.3750 - val_char_6_loss: 2.1213 - val_char_7_accuracy: 0.3750 - val_char_7_loss: 2.2895 - val_loss: 14.9922\n",
      "Epoch 11/30\n",
      "\u001b[1m1/1\u001b[0m \u001b[32m━━━━━━━━━━━━━━━━━━━━\u001b[0m\u001b[37m\u001b[0m \u001b[1m0s\u001b[0m 101ms/step - char_0_accuracy: 0.2500 - char_0_loss: 2.1980 - char_1_accuracy: 0.2812 - char_1_loss: 2.2088 - char_2_accuracy: 0.1562 - char_2_loss: 2.0894 - char_3_accuracy: 0.3438 - char_3_loss: 2.1350 - char_4_accuracy: 1.0000 - char_4_loss: 0.0027 - char_5_accuracy: 0.0938 - char_5_loss: 2.7019 - char_6_accuracy: 0.2500 - char_6_loss: 2.1259 - char_7_accuracy: 0.1250 - char_7_loss: 2.1455 - loss: 15.6071"
     ]
    },
    {
     "name": "stderr",
     "output_type": "stream",
     "text": [
      "WARNING:absl:You are saving your model as an HDF5 file via `model.save()` or `keras.saving.save_model(model)`. This file format is considered legacy. We recommend using instead the native Keras format, e.g. `model.save('my_model.keras')` or `keras.saving.save_model(model, 'my_model.keras')`. \n"
     ]
    },
    {
     "name": "stdout",
     "output_type": "stream",
     "text": [
      "\u001b[1m1/1\u001b[0m \u001b[32m━━━━━━━━━━━━━━━━━━━━\u001b[0m\u001b[37m\u001b[0m \u001b[1m0s\u001b[0m 267ms/step - char_0_accuracy: 0.2500 - char_0_loss: 2.1980 - char_1_accuracy: 0.2812 - char_1_loss: 2.2088 - char_2_accuracy: 0.1562 - char_2_loss: 2.0894 - char_3_accuracy: 0.3438 - char_3_loss: 2.1350 - char_4_accuracy: 1.0000 - char_4_loss: 0.0027 - char_5_accuracy: 0.0938 - char_5_loss: 2.7019 - char_6_accuracy: 0.2500 - char_6_loss: 2.1259 - char_7_accuracy: 0.1250 - char_7_loss: 2.1455 - loss: 15.6071 - val_char_0_accuracy: 0.3750 - val_char_0_loss: 2.2084 - val_char_1_accuracy: 0.3750 - val_char_1_loss: 1.5920 - val_char_2_accuracy: 0.2500 - val_char_2_loss: 2.0338 - val_char_3_accuracy: 0.3750 - val_char_3_loss: 1.9724 - val_char_4_accuracy: 1.0000 - val_char_4_loss: 5.7766e-04 - val_char_5_accuracy: 0.1250 - val_char_5_loss: 2.5332 - val_char_6_accuracy: 0.3750 - val_char_6_loss: 2.0959 - val_char_7_accuracy: 0.3750 - val_char_7_loss: 2.2070 - val_loss: 14.6433\n",
      "Epoch 12/30\n",
      "\u001b[1m1/1\u001b[0m \u001b[32m━━━━━━━━━━━━━━━━━━━━\u001b[0m\u001b[37m\u001b[0m \u001b[1m0s\u001b[0m 105ms/step - char_0_accuracy: 0.2812 - char_0_loss: 2.1714 - char_1_accuracy: 0.3125 - char_1_loss: 2.0722 - char_2_accuracy: 0.2500 - char_2_loss: 2.1850 - char_3_accuracy: 0.2500 - char_3_loss: 2.1610 - char_4_accuracy: 1.0000 - char_4_loss: 0.0010 - char_5_accuracy: 0.0938 - char_5_loss: 2.7725 - char_6_accuracy: 0.1875 - char_6_loss: 2.2222 - char_7_accuracy: 0.1875 - char_7_loss: 2.1113 - loss: 15.6967"
     ]
    },
    {
     "name": "stderr",
     "output_type": "stream",
     "text": [
      "WARNING:absl:You are saving your model as an HDF5 file via `model.save()` or `keras.saving.save_model(model)`. This file format is considered legacy. We recommend using instead the native Keras format, e.g. `model.save('my_model.keras')` or `keras.saving.save_model(model, 'my_model.keras')`. \n"
     ]
    },
    {
     "name": "stdout",
     "output_type": "stream",
     "text": [
      "\u001b[1m1/1\u001b[0m \u001b[32m━━━━━━━━━━━━━━━━━━━━\u001b[0m\u001b[37m\u001b[0m \u001b[1m0s\u001b[0m 284ms/step - char_0_accuracy: 0.2812 - char_0_loss: 2.1714 - char_1_accuracy: 0.3125 - char_1_loss: 2.0722 - char_2_accuracy: 0.2500 - char_2_loss: 2.1850 - char_3_accuracy: 0.2500 - char_3_loss: 2.1610 - char_4_accuracy: 1.0000 - char_4_loss: 0.0010 - char_5_accuracy: 0.0938 - char_5_loss: 2.7725 - char_6_accuracy: 0.1875 - char_6_loss: 2.2222 - char_7_accuracy: 0.1875 - char_7_loss: 2.1113 - loss: 15.6967 - val_char_0_accuracy: 0.3750 - val_char_0_loss: 2.1730 - val_char_1_accuracy: 0.3750 - val_char_1_loss: 1.5477 - val_char_2_accuracy: 0.2500 - val_char_2_loss: 1.9783 - val_char_3_accuracy: 0.3750 - val_char_3_loss: 1.9025 - val_char_4_accuracy: 1.0000 - val_char_4_loss: 2.3988e-04 - val_char_5_accuracy: 0.1250 - val_char_5_loss: 2.5258 - val_char_6_accuracy: 0.3750 - val_char_6_loss: 2.0771 - val_char_7_accuracy: 0.3750 - val_char_7_loss: 2.1162 - val_loss: 14.3209\n",
      "Epoch 13/30\n",
      "\u001b[1m1/1\u001b[0m \u001b[32m━━━━━━━━━━━━━━━━━━━━\u001b[0m\u001b[37m\u001b[0m \u001b[1m0s\u001b[0m 106ms/step - char_0_accuracy: 0.2188 - char_0_loss: 2.1197 - char_1_accuracy: 0.2500 - char_1_loss: 2.1669 - char_2_accuracy: 0.2500 - char_2_loss: 2.1361 - char_3_accuracy: 0.2812 - char_3_loss: 2.0702 - char_4_accuracy: 1.0000 - char_4_loss: 3.7263e-04 - char_5_accuracy: 0.1250 - char_5_loss: 2.6903 - char_6_accuracy: 0.1250 - char_6_loss: 2.1698 - char_7_accuracy: 0.2500 - char_7_loss: 2.1364 - loss: 15.4898"
     ]
    },
    {
     "name": "stderr",
     "output_type": "stream",
     "text": [
      "WARNING:absl:You are saving your model as an HDF5 file via `model.save()` or `keras.saving.save_model(model)`. This file format is considered legacy. We recommend using instead the native Keras format, e.g. `model.save('my_model.keras')` or `keras.saving.save_model(model, 'my_model.keras')`. \n"
     ]
    },
    {
     "name": "stdout",
     "output_type": "stream",
     "text": [
      "\u001b[1m1/1\u001b[0m \u001b[32m━━━━━━━━━━━━━━━━━━━━\u001b[0m\u001b[37m\u001b[0m \u001b[1m0s\u001b[0m 272ms/step - char_0_accuracy: 0.2188 - char_0_loss: 2.1197 - char_1_accuracy: 0.2500 - char_1_loss: 2.1669 - char_2_accuracy: 0.2500 - char_2_loss: 2.1361 - char_3_accuracy: 0.2812 - char_3_loss: 2.0702 - char_4_accuracy: 1.0000 - char_4_loss: 3.7263e-04 - char_5_accuracy: 0.1250 - char_5_loss: 2.6903 - char_6_accuracy: 0.1250 - char_6_loss: 2.1698 - char_7_accuracy: 0.2500 - char_7_loss: 2.1364 - loss: 15.4898 - val_char_0_accuracy: 0.3750 - val_char_0_loss: 2.1359 - val_char_1_accuracy: 0.3750 - val_char_1_loss: 1.5706 - val_char_2_accuracy: 0.2500 - val_char_2_loss: 1.9381 - val_char_3_accuracy: 0.3750 - val_char_3_loss: 1.8716 - val_char_4_accuracy: 1.0000 - val_char_4_loss: 1.5775e-04 - val_char_5_accuracy: 0.1250 - val_char_5_loss: 2.5378 - val_char_6_accuracy: 0.0000e+00 - val_char_6_loss: 2.0981 - val_char_7_accuracy: 0.3750 - val_char_7_loss: 2.0688 - val_loss: 14.2210\n",
      "Epoch 14/30\n",
      "\u001b[1m1/1\u001b[0m \u001b[32m━━━━━━━━━━━━━━━━━━━━\u001b[0m\u001b[37m\u001b[0m \u001b[1m0s\u001b[0m 106ms/step - char_0_accuracy: 0.3438 - char_0_loss: 1.8967 - char_1_accuracy: 0.3438 - char_1_loss: 1.9254 - char_2_accuracy: 0.1875 - char_2_loss: 1.9665 - char_3_accuracy: 0.2500 - char_3_loss: 2.0274 - char_4_accuracy: 1.0000 - char_4_loss: 3.5351e-04 - char_5_accuracy: 0.1562 - char_5_loss: 2.6732 - char_6_accuracy: 0.2500 - char_6_loss: 1.9895 - char_7_accuracy: 0.3125 - char_7_loss: 1.9991 - loss: 14.4781"
     ]
    },
    {
     "name": "stderr",
     "output_type": "stream",
     "text": [
      "WARNING:absl:You are saving your model as an HDF5 file via `model.save()` or `keras.saving.save_model(model)`. This file format is considered legacy. We recommend using instead the native Keras format, e.g. `model.save('my_model.keras')` or `keras.saving.save_model(model, 'my_model.keras')`. \n"
     ]
    },
    {
     "name": "stdout",
     "output_type": "stream",
     "text": [
      "\u001b[1m1/1\u001b[0m \u001b[32m━━━━━━━━━━━━━━━━━━━━\u001b[0m\u001b[37m\u001b[0m \u001b[1m0s\u001b[0m 279ms/step - char_0_accuracy: 0.3438 - char_0_loss: 1.8967 - char_1_accuracy: 0.3438 - char_1_loss: 1.9254 - char_2_accuracy: 0.1875 - char_2_loss: 1.9665 - char_3_accuracy: 0.2500 - char_3_loss: 2.0274 - char_4_accuracy: 1.0000 - char_4_loss: 3.5351e-04 - char_5_accuracy: 0.1562 - char_5_loss: 2.6732 - char_6_accuracy: 0.2500 - char_6_loss: 1.9895 - char_7_accuracy: 0.3125 - char_7_loss: 1.9991 - loss: 14.4781 - val_char_0_accuracy: 0.3750 - val_char_0_loss: 2.0873 - val_char_1_accuracy: 0.3750 - val_char_1_loss: 1.5623 - val_char_2_accuracy: 0.2500 - val_char_2_loss: 1.9206 - val_char_3_accuracy: 0.3750 - val_char_3_loss: 1.8611 - val_char_4_accuracy: 1.0000 - val_char_4_loss: 6.5859e-05 - val_char_5_accuracy: 0.1250 - val_char_5_loss: 2.4987 - val_char_6_accuracy: 0.0000e+00 - val_char_6_loss: 2.0888 - val_char_7_accuracy: 0.3750 - val_char_7_loss: 2.0332 - val_loss: 14.0523\n",
      "Epoch 15/30\n",
      "\u001b[1m1/1\u001b[0m \u001b[32m━━━━━━━━━━━━━━━━━━━━\u001b[0m\u001b[37m\u001b[0m \u001b[1m0s\u001b[0m 106ms/step - char_0_accuracy: 0.2500 - char_0_loss: 1.9952 - char_1_accuracy: 0.4062 - char_1_loss: 1.8850 - char_2_accuracy: 0.0625 - char_2_loss: 2.2026 - char_3_accuracy: 0.2500 - char_3_loss: 1.9426 - char_4_accuracy: 1.0000 - char_4_loss: 1.6768e-04 - char_5_accuracy: 0.1562 - char_5_loss: 2.4868 - char_6_accuracy: 0.1562 - char_6_loss: 2.1980 - char_7_accuracy: 0.1250 - char_7_loss: 2.2992 - loss: 15.0096"
     ]
    },
    {
     "name": "stderr",
     "output_type": "stream",
     "text": [
      "WARNING:absl:You are saving your model as an HDF5 file via `model.save()` or `keras.saving.save_model(model)`. This file format is considered legacy. We recommend using instead the native Keras format, e.g. `model.save('my_model.keras')` or `keras.saving.save_model(model, 'my_model.keras')`. \n"
     ]
    },
    {
     "name": "stdout",
     "output_type": "stream",
     "text": [
      "\u001b[1m1/1\u001b[0m \u001b[32m━━━━━━━━━━━━━━━━━━━━\u001b[0m\u001b[37m\u001b[0m \u001b[1m0s\u001b[0m 275ms/step - char_0_accuracy: 0.2500 - char_0_loss: 1.9952 - char_1_accuracy: 0.4062 - char_1_loss: 1.8850 - char_2_accuracy: 0.0625 - char_2_loss: 2.2026 - char_3_accuracy: 0.2500 - char_3_loss: 1.9426 - char_4_accuracy: 1.0000 - char_4_loss: 1.6768e-04 - char_5_accuracy: 0.1562 - char_5_loss: 2.4868 - char_6_accuracy: 0.1562 - char_6_loss: 2.1980 - char_7_accuracy: 0.1250 - char_7_loss: 2.2992 - loss: 15.0096 - val_char_0_accuracy: 0.3750 - val_char_0_loss: 2.0405 - val_char_1_accuracy: 0.3750 - val_char_1_loss: 1.5963 - val_char_2_accuracy: 0.1250 - val_char_2_loss: 1.9322 - val_char_3_accuracy: 0.3750 - val_char_3_loss: 1.8677 - val_char_4_accuracy: 1.0000 - val_char_4_loss: 1.0726e-04 - val_char_5_accuracy: 0.1250 - val_char_5_loss: 2.4567 - val_char_6_accuracy: 0.0000e+00 - val_char_6_loss: 2.0121 - val_char_7_accuracy: 0.3750 - val_char_7_loss: 2.0106 - val_loss: 13.9163\n",
      "Epoch 16/30\n",
      "\u001b[1m1/1\u001b[0m \u001b[32m━━━━━━━━━━━━━━━━━━━━\u001b[0m\u001b[37m\u001b[0m \u001b[1m0s\u001b[0m 106ms/step - char_0_accuracy: 0.1562 - char_0_loss: 1.9478 - char_1_accuracy: 0.3438 - char_1_loss: 1.8830 - char_2_accuracy: 0.2188 - char_2_loss: 1.8280 - char_3_accuracy: 0.2500 - char_3_loss: 1.9608 - char_4_accuracy: 1.0000 - char_4_loss: 2.2635e-04 - char_5_accuracy: 0.1562 - char_5_loss: 2.4802 - char_6_accuracy: 0.2188 - char_6_loss: 1.9138 - char_7_accuracy: 0.1562 - char_7_loss: 2.0022 - loss: 14.0160"
     ]
    },
    {
     "name": "stderr",
     "output_type": "stream",
     "text": [
      "WARNING:absl:You are saving your model as an HDF5 file via `model.save()` or `keras.saving.save_model(model)`. This file format is considered legacy. We recommend using instead the native Keras format, e.g. `model.save('my_model.keras')` or `keras.saving.save_model(model, 'my_model.keras')`. \n"
     ]
    },
    {
     "name": "stdout",
     "output_type": "stream",
     "text": [
      "\u001b[1m1/1\u001b[0m \u001b[32m━━━━━━━━━━━━━━━━━━━━\u001b[0m\u001b[37m\u001b[0m \u001b[1m0s\u001b[0m 273ms/step - char_0_accuracy: 0.1562 - char_0_loss: 1.9478 - char_1_accuracy: 0.3438 - char_1_loss: 1.8830 - char_2_accuracy: 0.2188 - char_2_loss: 1.8280 - char_3_accuracy: 0.2500 - char_3_loss: 1.9608 - char_4_accuracy: 1.0000 - char_4_loss: 2.2635e-04 - char_5_accuracy: 0.1562 - char_5_loss: 2.4802 - char_6_accuracy: 0.2188 - char_6_loss: 1.9138 - char_7_accuracy: 0.1562 - char_7_loss: 2.0022 - loss: 14.0160 - val_char_0_accuracy: 0.3750 - val_char_0_loss: 1.9825 - val_char_1_accuracy: 0.3750 - val_char_1_loss: 1.5875 - val_char_2_accuracy: 0.1250 - val_char_2_loss: 1.9208 - val_char_3_accuracy: 0.3750 - val_char_3_loss: 1.8562 - val_char_4_accuracy: 1.0000 - val_char_4_loss: 8.6241e-05 - val_char_5_accuracy: 0.1250 - val_char_5_loss: 2.4254 - val_char_6_accuracy: 0.3750 - val_char_6_loss: 1.9334 - val_char_7_accuracy: 0.3750 - val_char_7_loss: 1.9737 - val_loss: 13.6795\n",
      "Epoch 17/30\n",
      "\u001b[1m1/1\u001b[0m \u001b[32m━━━━━━━━━━━━━━━━━━━━\u001b[0m\u001b[37m\u001b[0m \u001b[1m0s\u001b[0m 108ms/step - char_0_accuracy: 0.2500 - char_0_loss: 2.0003 - char_1_accuracy: 0.3438 - char_1_loss: 1.9049 - char_2_accuracy: 0.1250 - char_2_loss: 1.9209 - char_3_accuracy: 0.1562 - char_3_loss: 2.0515 - char_4_accuracy: 1.0000 - char_4_loss: 1.4307e-04 - char_5_accuracy: 0.0938 - char_5_loss: 2.5636 - char_6_accuracy: 0.2188 - char_6_loss: 2.0561 - char_7_accuracy: 0.1562 - char_7_loss: 1.9589 - loss: 14.4564"
     ]
    },
    {
     "name": "stderr",
     "output_type": "stream",
     "text": [
      "WARNING:absl:You are saving your model as an HDF5 file via `model.save()` or `keras.saving.save_model(model)`. This file format is considered legacy. We recommend using instead the native Keras format, e.g. `model.save('my_model.keras')` or `keras.saving.save_model(model, 'my_model.keras')`. \n"
     ]
    },
    {
     "name": "stdout",
     "output_type": "stream",
     "text": [
      "\u001b[1m1/1\u001b[0m \u001b[32m━━━━━━━━━━━━━━━━━━━━\u001b[0m\u001b[37m\u001b[0m \u001b[1m0s\u001b[0m 278ms/step - char_0_accuracy: 0.2500 - char_0_loss: 2.0003 - char_1_accuracy: 0.3438 - char_1_loss: 1.9049 - char_2_accuracy: 0.1250 - char_2_loss: 1.9209 - char_3_accuracy: 0.1562 - char_3_loss: 2.0515 - char_4_accuracy: 1.0000 - char_4_loss: 1.4307e-04 - char_5_accuracy: 0.0938 - char_5_loss: 2.5636 - char_6_accuracy: 0.2188 - char_6_loss: 2.0561 - char_7_accuracy: 0.1562 - char_7_loss: 1.9589 - loss: 14.4564 - val_char_0_accuracy: 0.3750 - val_char_0_loss: 1.9090 - val_char_1_accuracy: 0.3750 - val_char_1_loss: 1.5741 - val_char_2_accuracy: 0.1250 - val_char_2_loss: 1.9185 - val_char_3_accuracy: 0.3750 - val_char_3_loss: 1.8470 - val_char_4_accuracy: 1.0000 - val_char_4_loss: 7.1237e-05 - val_char_5_accuracy: 0.1250 - val_char_5_loss: 2.3954 - val_char_6_accuracy: 0.3750 - val_char_6_loss: 1.8892 - val_char_7_accuracy: 0.1250 - val_char_7_loss: 1.9627 - val_loss: 13.4960\n",
      "Epoch 18/30\n",
      "\u001b[1m1/1\u001b[0m \u001b[32m━━━━━━━━━━━━━━━━━━━━\u001b[0m\u001b[37m\u001b[0m \u001b[1m0s\u001b[0m 109ms/step - char_0_accuracy: 0.2188 - char_0_loss: 1.9389 - char_1_accuracy: 0.2188 - char_1_loss: 1.8404 - char_2_accuracy: 0.0625 - char_2_loss: 2.0761 - char_3_accuracy: 0.1562 - char_3_loss: 1.9230 - char_4_accuracy: 1.0000 - char_4_loss: 1.3442e-04 - char_5_accuracy: 0.1562 - char_5_loss: 2.6078 - char_6_accuracy: 0.2188 - char_6_loss: 1.9341 - char_7_accuracy: 0.1250 - char_7_loss: 2.0389 - loss: 14.3592"
     ]
    },
    {
     "name": "stderr",
     "output_type": "stream",
     "text": [
      "WARNING:absl:You are saving your model as an HDF5 file via `model.save()` or `keras.saving.save_model(model)`. This file format is considered legacy. We recommend using instead the native Keras format, e.g. `model.save('my_model.keras')` or `keras.saving.save_model(model, 'my_model.keras')`. \n"
     ]
    },
    {
     "name": "stdout",
     "output_type": "stream",
     "text": [
      "\u001b[1m1/1\u001b[0m \u001b[32m━━━━━━━━━━━━━━━━━━━━\u001b[0m\u001b[37m\u001b[0m \u001b[1m0s\u001b[0m 283ms/step - char_0_accuracy: 0.2188 - char_0_loss: 1.9389 - char_1_accuracy: 0.2188 - char_1_loss: 1.8404 - char_2_accuracy: 0.0625 - char_2_loss: 2.0761 - char_3_accuracy: 0.1562 - char_3_loss: 1.9230 - char_4_accuracy: 1.0000 - char_4_loss: 1.3442e-04 - char_5_accuracy: 0.1562 - char_5_loss: 2.6078 - char_6_accuracy: 0.2188 - char_6_loss: 1.9341 - char_7_accuracy: 0.1250 - char_7_loss: 2.0389 - loss: 14.3592 - val_char_0_accuracy: 0.3750 - val_char_0_loss: 1.8488 - val_char_1_accuracy: 0.3750 - val_char_1_loss: 1.5568 - val_char_2_accuracy: 0.1250 - val_char_2_loss: 1.8954 - val_char_3_accuracy: 0.3750 - val_char_3_loss: 1.8470 - val_char_4_accuracy: 1.0000 - val_char_4_loss: 6.8048e-05 - val_char_5_accuracy: 0.1250 - val_char_5_loss: 2.3727 - val_char_6_accuracy: 0.3750 - val_char_6_loss: 1.8985 - val_char_7_accuracy: 0.1250 - val_char_7_loss: 1.9617 - val_loss: 13.3810\n",
      "Epoch 19/30\n",
      "\u001b[1m1/1\u001b[0m \u001b[32m━━━━━━━━━━━━━━━━━━━━\u001b[0m\u001b[37m\u001b[0m \u001b[1m0s\u001b[0m 107ms/step - char_0_accuracy: 0.2812 - char_0_loss: 1.8607 - char_1_accuracy: 0.2812 - char_1_loss: 1.8770 - char_2_accuracy: 0.2500 - char_2_loss: 2.0167 - char_3_accuracy: 0.2812 - char_3_loss: 1.9988 - char_4_accuracy: 1.0000 - char_4_loss: 1.3452e-04 - char_5_accuracy: 0.1562 - char_5_loss: 2.4242 - char_6_accuracy: 0.2188 - char_6_loss: 2.0346 - char_7_accuracy: 0.1875 - char_7_loss: 1.9657 - loss: 14.1778"
     ]
    },
    {
     "name": "stderr",
     "output_type": "stream",
     "text": [
      "WARNING:absl:You are saving your model as an HDF5 file via `model.save()` or `keras.saving.save_model(model)`. This file format is considered legacy. We recommend using instead the native Keras format, e.g. `model.save('my_model.keras')` or `keras.saving.save_model(model, 'my_model.keras')`. \n"
     ]
    },
    {
     "name": "stdout",
     "output_type": "stream",
     "text": [
      "\u001b[1m1/1\u001b[0m \u001b[32m━━━━━━━━━━━━━━━━━━━━\u001b[0m\u001b[37m\u001b[0m \u001b[1m0s\u001b[0m 281ms/step - char_0_accuracy: 0.2812 - char_0_loss: 1.8607 - char_1_accuracy: 0.2812 - char_1_loss: 1.8770 - char_2_accuracy: 0.2500 - char_2_loss: 2.0167 - char_3_accuracy: 0.2812 - char_3_loss: 1.9988 - char_4_accuracy: 1.0000 - char_4_loss: 1.3452e-04 - char_5_accuracy: 0.1562 - char_5_loss: 2.4242 - char_6_accuracy: 0.2188 - char_6_loss: 2.0346 - char_7_accuracy: 0.1875 - char_7_loss: 1.9657 - loss: 14.1778 - val_char_0_accuracy: 0.3750 - val_char_0_loss: 1.7934 - val_char_1_accuracy: 0.3750 - val_char_1_loss: 1.5609 - val_char_2_accuracy: 0.1250 - val_char_2_loss: 1.8543 - val_char_3_accuracy: 0.3750 - val_char_3_loss: 1.8557 - val_char_4_accuracy: 1.0000 - val_char_4_loss: 8.3185e-05 - val_char_5_accuracy: 0.1250 - val_char_5_loss: 2.3583 - val_char_6_accuracy: 0.1250 - val_char_6_loss: 1.9322 - val_char_7_accuracy: 0.1250 - val_char_7_loss: 1.9676 - val_loss: 13.3226\n",
      "Epoch 20/30\n",
      "\u001b[1m1/1\u001b[0m \u001b[32m━━━━━━━━━━━━━━━━━━━━\u001b[0m\u001b[37m\u001b[0m \u001b[1m0s\u001b[0m 103ms/step - char_0_accuracy: 0.2812 - char_0_loss: 1.8000 - char_1_accuracy: 0.3750 - char_1_loss: 1.8281 - char_2_accuracy: 0.2188 - char_2_loss: 1.9067 - char_3_accuracy: 0.2812 - char_3_loss: 1.8343 - char_4_accuracy: 1.0000 - char_4_loss: 1.0802e-04 - char_5_accuracy: 0.0312 - char_5_loss: 2.4847 - char_6_accuracy: 0.2812 - char_6_loss: 1.9339 - char_7_accuracy: 0.2500 - char_7_loss: 1.9202 - loss: 13.7081"
     ]
    },
    {
     "name": "stderr",
     "output_type": "stream",
     "text": [
      "WARNING:absl:You are saving your model as an HDF5 file via `model.save()` or `keras.saving.save_model(model)`. This file format is considered legacy. We recommend using instead the native Keras format, e.g. `model.save('my_model.keras')` or `keras.saving.save_model(model, 'my_model.keras')`. \n"
     ]
    },
    {
     "name": "stdout",
     "output_type": "stream",
     "text": [
      "\u001b[1m1/1\u001b[0m \u001b[32m━━━━━━━━━━━━━━━━━━━━\u001b[0m\u001b[37m\u001b[0m \u001b[1m0s\u001b[0m 271ms/step - char_0_accuracy: 0.2812 - char_0_loss: 1.8000 - char_1_accuracy: 0.3750 - char_1_loss: 1.8281 - char_2_accuracy: 0.2188 - char_2_loss: 1.9067 - char_3_accuracy: 0.2812 - char_3_loss: 1.8343 - char_4_accuracy: 1.0000 - char_4_loss: 1.0802e-04 - char_5_accuracy: 0.0312 - char_5_loss: 2.4847 - char_6_accuracy: 0.2812 - char_6_loss: 1.9339 - char_7_accuracy: 0.2500 - char_7_loss: 1.9202 - loss: 13.7081 - val_char_0_accuracy: 0.3750 - val_char_0_loss: 1.7490 - val_char_1_accuracy: 0.3750 - val_char_1_loss: 1.5567 - val_char_2_accuracy: 0.3750 - val_char_2_loss: 1.8233 - val_char_3_accuracy: 0.3750 - val_char_3_loss: 1.8377 - val_char_4_accuracy: 1.0000 - val_char_4_loss: 6.2028e-05 - val_char_5_accuracy: 0.1250 - val_char_5_loss: 2.3491 - val_char_6_accuracy: 0.1250 - val_char_6_loss: 1.9583 - val_char_7_accuracy: 0.1250 - val_char_7_loss: 1.9713 - val_loss: 13.2454\n",
      "Epoch 21/30\n",
      "\u001b[1m1/1\u001b[0m \u001b[32m━━━━━━━━━━━━━━━━━━━━\u001b[0m\u001b[37m\u001b[0m \u001b[1m0s\u001b[0m 104ms/step - char_0_accuracy: 0.2812 - char_0_loss: 1.7068 - char_1_accuracy: 0.3125 - char_1_loss: 1.9210 - char_2_accuracy: 0.2812 - char_2_loss: 1.9071 - char_3_accuracy: 0.1250 - char_3_loss: 1.9930 - char_4_accuracy: 1.0000 - char_4_loss: 7.7147e-05 - char_5_accuracy: 0.1250 - char_5_loss: 2.5573 - char_6_accuracy: 0.1875 - char_6_loss: 1.9750 - char_7_accuracy: 0.0938 - char_7_loss: 2.0591 - loss: 14.1194"
     ]
    },
    {
     "name": "stderr",
     "output_type": "stream",
     "text": [
      "WARNING:absl:You are saving your model as an HDF5 file via `model.save()` or `keras.saving.save_model(model)`. This file format is considered legacy. We recommend using instead the native Keras format, e.g. `model.save('my_model.keras')` or `keras.saving.save_model(model, 'my_model.keras')`. \n"
     ]
    },
    {
     "name": "stdout",
     "output_type": "stream",
     "text": [
      "\u001b[1m1/1\u001b[0m \u001b[32m━━━━━━━━━━━━━━━━━━━━\u001b[0m\u001b[37m\u001b[0m \u001b[1m0s\u001b[0m 275ms/step - char_0_accuracy: 0.2812 - char_0_loss: 1.7068 - char_1_accuracy: 0.3125 - char_1_loss: 1.9210 - char_2_accuracy: 0.2812 - char_2_loss: 1.9071 - char_3_accuracy: 0.1250 - char_3_loss: 1.9930 - char_4_accuracy: 1.0000 - char_4_loss: 7.7147e-05 - char_5_accuracy: 0.1250 - char_5_loss: 2.5573 - char_6_accuracy: 0.1875 - char_6_loss: 1.9750 - char_7_accuracy: 0.0938 - char_7_loss: 2.0591 - loss: 14.1194 - val_char_0_accuracy: 0.3750 - val_char_0_loss: 1.7147 - val_char_1_accuracy: 0.3750 - val_char_1_loss: 1.5848 - val_char_2_accuracy: 0.3750 - val_char_2_loss: 1.8027 - val_char_3_accuracy: 0.3750 - val_char_3_loss: 1.8113 - val_char_4_accuracy: 1.0000 - val_char_4_loss: 9.5428e-05 - val_char_5_accuracy: 0.1250 - val_char_5_loss: 2.3442 - val_char_6_accuracy: 0.3750 - val_char_6_loss: 1.9631 - val_char_7_accuracy: 0.1250 - val_char_7_loss: 1.9795 - val_loss: 13.2004\n",
      "Epoch 22/30\n",
      "\u001b[1m1/1\u001b[0m \u001b[32m━━━━━━━━━━━━━━━━━━━━\u001b[0m\u001b[37m\u001b[0m \u001b[1m0s\u001b[0m 103ms/step - char_0_accuracy: 0.3438 - char_0_loss: 1.8327 - char_1_accuracy: 0.2812 - char_1_loss: 1.8990 - char_2_accuracy: 0.1250 - char_2_loss: 1.8614 - char_3_accuracy: 0.2188 - char_3_loss: 1.9106 - char_4_accuracy: 1.0000 - char_4_loss: 2.0940e-04 - char_5_accuracy: 0.1562 - char_5_loss: 2.4357 - char_6_accuracy: 0.2500 - char_6_loss: 1.8508 - char_7_accuracy: 0.2812 - char_7_loss: 2.0582 - loss: 13.8486"
     ]
    },
    {
     "name": "stderr",
     "output_type": "stream",
     "text": [
      "WARNING:absl:You are saving your model as an HDF5 file via `model.save()` or `keras.saving.save_model(model)`. This file format is considered legacy. We recommend using instead the native Keras format, e.g. `model.save('my_model.keras')` or `keras.saving.save_model(model, 'my_model.keras')`. \n"
     ]
    },
    {
     "name": "stdout",
     "output_type": "stream",
     "text": [
      "\u001b[1m1/1\u001b[0m \u001b[32m━━━━━━━━━━━━━━━━━━━━\u001b[0m\u001b[37m\u001b[0m \u001b[1m0s\u001b[0m 274ms/step - char_0_accuracy: 0.3438 - char_0_loss: 1.8327 - char_1_accuracy: 0.2812 - char_1_loss: 1.8990 - char_2_accuracy: 0.1250 - char_2_loss: 1.8614 - char_3_accuracy: 0.2188 - char_3_loss: 1.9106 - char_4_accuracy: 1.0000 - char_4_loss: 2.0940e-04 - char_5_accuracy: 0.1562 - char_5_loss: 2.4357 - char_6_accuracy: 0.2500 - char_6_loss: 1.8508 - char_7_accuracy: 0.2812 - char_7_loss: 2.0582 - loss: 13.8486 - val_char_0_accuracy: 0.3750 - val_char_0_loss: 1.6895 - val_char_1_accuracy: 0.3750 - val_char_1_loss: 1.6163 - val_char_2_accuracy: 0.3750 - val_char_2_loss: 1.7993 - val_char_3_accuracy: 0.3750 - val_char_3_loss: 1.7846 - val_char_4_accuracy: 1.0000 - val_char_4_loss: 1.4425e-04 - val_char_5_accuracy: 0.1250 - val_char_5_loss: 2.3144 - val_char_6_accuracy: 0.3750 - val_char_6_loss: 1.9737 - val_char_7_accuracy: 0.3750 - val_char_7_loss: 1.9655 - val_loss: 13.1435\n",
      "Epoch 23/30\n",
      "\u001b[1m1/1\u001b[0m \u001b[32m━━━━━━━━━━━━━━━━━━━━\u001b[0m\u001b[37m\u001b[0m \u001b[1m0s\u001b[0m 108ms/step - char_0_accuracy: 0.3438 - char_0_loss: 1.7412 - char_1_accuracy: 0.3125 - char_1_loss: 1.7563 - char_2_accuracy: 0.3438 - char_2_loss: 1.8665 - char_3_accuracy: 0.3125 - char_3_loss: 1.8086 - char_4_accuracy: 1.0000 - char_4_loss: 3.2623e-04 - char_5_accuracy: 0.1250 - char_5_loss: 2.2994 - char_6_accuracy: 0.4375 - char_6_loss: 1.8353 - char_7_accuracy: 0.2812 - char_7_loss: 1.9328 - loss: 13.2403"
     ]
    },
    {
     "name": "stderr",
     "output_type": "stream",
     "text": [
      "WARNING:absl:You are saving your model as an HDF5 file via `model.save()` or `keras.saving.save_model(model)`. This file format is considered legacy. We recommend using instead the native Keras format, e.g. `model.save('my_model.keras')` or `keras.saving.save_model(model, 'my_model.keras')`. \n"
     ]
    },
    {
     "name": "stdout",
     "output_type": "stream",
     "text": [
      "\u001b[1m1/1\u001b[0m \u001b[32m━━━━━━━━━━━━━━━━━━━━\u001b[0m\u001b[37m\u001b[0m \u001b[1m0s\u001b[0m 282ms/step - char_0_accuracy: 0.3438 - char_0_loss: 1.7412 - char_1_accuracy: 0.3125 - char_1_loss: 1.7563 - char_2_accuracy: 0.3438 - char_2_loss: 1.8665 - char_3_accuracy: 0.3125 - char_3_loss: 1.8086 - char_4_accuracy: 1.0000 - char_4_loss: 3.2623e-04 - char_5_accuracy: 0.1250 - char_5_loss: 2.2994 - char_6_accuracy: 0.4375 - char_6_loss: 1.8353 - char_7_accuracy: 0.2812 - char_7_loss: 1.9328 - loss: 13.2403 - val_char_0_accuracy: 0.3750 - val_char_0_loss: 1.6496 - val_char_1_accuracy: 0.3750 - val_char_1_loss: 1.6148 - val_char_2_accuracy: 0.1250 - val_char_2_loss: 1.7856 - val_char_3_accuracy: 0.3750 - val_char_3_loss: 1.7576 - val_char_4_accuracy: 1.0000 - val_char_4_loss: 7.1248e-05 - val_char_5_accuracy: 0.1250 - val_char_5_loss: 2.2596 - val_char_6_accuracy: 0.3750 - val_char_6_loss: 1.9947 - val_char_7_accuracy: 0.3750 - val_char_7_loss: 1.9552 - val_loss: 13.0173\n",
      "Epoch 24/30\n",
      "\u001b[1m1/1\u001b[0m \u001b[32m━━━━━━━━━━━━━━━━━━━━\u001b[0m\u001b[37m\u001b[0m \u001b[1m0s\u001b[0m 110ms/step - char_0_accuracy: 0.3438 - char_0_loss: 1.6799 - char_1_accuracy: 0.3750 - char_1_loss: 1.8629 - char_2_accuracy: 0.3125 - char_2_loss: 1.7641 - char_3_accuracy: 0.2500 - char_3_loss: 1.8964 - char_4_accuracy: 1.0000 - char_4_loss: 1.0409e-04 - char_5_accuracy: 0.1250 - char_5_loss: 2.2329 - char_6_accuracy: 0.2188 - char_6_loss: 1.9087 - char_7_accuracy: 0.1875 - char_7_loss: 1.9346 - loss: 13.2796"
     ]
    },
    {
     "name": "stderr",
     "output_type": "stream",
     "text": [
      "WARNING:absl:You are saving your model as an HDF5 file via `model.save()` or `keras.saving.save_model(model)`. This file format is considered legacy. We recommend using instead the native Keras format, e.g. `model.save('my_model.keras')` or `keras.saving.save_model(model, 'my_model.keras')`. \n"
     ]
    },
    {
     "name": "stdout",
     "output_type": "stream",
     "text": [
      "\u001b[1m1/1\u001b[0m \u001b[32m━━━━━━━━━━━━━━━━━━━━\u001b[0m\u001b[37m\u001b[0m \u001b[1m0s\u001b[0m 295ms/step - char_0_accuracy: 0.3438 - char_0_loss: 1.6799 - char_1_accuracy: 0.3750 - char_1_loss: 1.8629 - char_2_accuracy: 0.3125 - char_2_loss: 1.7641 - char_3_accuracy: 0.2500 - char_3_loss: 1.8964 - char_4_accuracy: 1.0000 - char_4_loss: 1.0409e-04 - char_5_accuracy: 0.1250 - char_5_loss: 2.2329 - char_6_accuracy: 0.2188 - char_6_loss: 1.9087 - char_7_accuracy: 0.1875 - char_7_loss: 1.9346 - loss: 13.2796 - val_char_0_accuracy: 0.3750 - val_char_0_loss: 1.6106 - val_char_1_accuracy: 0.3750 - val_char_1_loss: 1.6025 - val_char_2_accuracy: 0.1250 - val_char_2_loss: 1.7799 - val_char_3_accuracy: 0.3750 - val_char_3_loss: 1.7468 - val_char_4_accuracy: 1.0000 - val_char_4_loss: 4.4476e-05 - val_char_5_accuracy: 0.2500 - val_char_5_loss: 2.2093 - val_char_6_accuracy: 0.3750 - val_char_6_loss: 1.9834 - val_char_7_accuracy: 0.3750 - val_char_7_loss: 1.9384 - val_loss: 12.8709\n",
      "Epoch 25/30\n",
      "\u001b[1m1/1\u001b[0m \u001b[32m━━━━━━━━━━━━━━━━━━━━\u001b[0m\u001b[37m\u001b[0m \u001b[1m0s\u001b[0m 110ms/step - char_0_accuracy: 0.2812 - char_0_loss: 1.7291 - char_1_accuracy: 0.3750 - char_1_loss: 1.8671 - char_2_accuracy: 0.2812 - char_2_loss: 1.6593 - char_3_accuracy: 0.3438 - char_3_loss: 1.8155 - char_4_accuracy: 1.0000 - char_4_loss: 9.3210e-05 - char_5_accuracy: 0.1562 - char_5_loss: 2.2404 - char_6_accuracy: 0.2188 - char_6_loss: 1.8677 - char_7_accuracy: 0.2188 - char_7_loss: 1.9530 - loss: 13.1323"
     ]
    },
    {
     "name": "stderr",
     "output_type": "stream",
     "text": [
      "WARNING:absl:You are saving your model as an HDF5 file via `model.save()` or `keras.saving.save_model(model)`. This file format is considered legacy. We recommend using instead the native Keras format, e.g. `model.save('my_model.keras')` or `keras.saving.save_model(model, 'my_model.keras')`. \n"
     ]
    },
    {
     "name": "stdout",
     "output_type": "stream",
     "text": [
      "\u001b[1m1/1\u001b[0m \u001b[32m━━━━━━━━━━━━━━━━━━━━\u001b[0m\u001b[37m\u001b[0m \u001b[1m0s\u001b[0m 292ms/step - char_0_accuracy: 0.2812 - char_0_loss: 1.7291 - char_1_accuracy: 0.3750 - char_1_loss: 1.8671 - char_2_accuracy: 0.2812 - char_2_loss: 1.6593 - char_3_accuracy: 0.3438 - char_3_loss: 1.8155 - char_4_accuracy: 1.0000 - char_4_loss: 9.3210e-05 - char_5_accuracy: 0.1562 - char_5_loss: 2.2404 - char_6_accuracy: 0.2188 - char_6_loss: 1.8677 - char_7_accuracy: 0.2188 - char_7_loss: 1.9530 - loss: 13.1323 - val_char_0_accuracy: 0.3750 - val_char_0_loss: 1.6050 - val_char_1_accuracy: 0.3750 - val_char_1_loss: 1.5712 - val_char_2_accuracy: 0.2500 - val_char_2_loss: 1.7439 - val_char_3_accuracy: 0.3750 - val_char_3_loss: 1.7475 - val_char_4_accuracy: 1.0000 - val_char_4_loss: 8.2583e-05 - val_char_5_accuracy: 0.3750 - val_char_5_loss: 2.2072 - val_char_6_accuracy: 0.3750 - val_char_6_loss: 1.9413 - val_char_7_accuracy: 0.2500 - val_char_7_loss: 1.9526 - val_loss: 12.7687\n",
      "Epoch 26/30\n",
      "\u001b[1m1/1\u001b[0m \u001b[32m━━━━━━━━━━━━━━━━━━━━\u001b[0m\u001b[37m\u001b[0m \u001b[1m0s\u001b[0m 107ms/step - char_0_accuracy: 0.3438 - char_0_loss: 1.6540 - char_1_accuracy: 0.3750 - char_1_loss: 1.6965 - char_2_accuracy: 0.2812 - char_2_loss: 1.8188 - char_3_accuracy: 0.3438 - char_3_loss: 1.7010 - char_4_accuracy: 1.0000 - char_4_loss: 1.5292e-04 - char_5_accuracy: 0.1250 - char_5_loss: 2.3768 - char_6_accuracy: 0.2188 - char_6_loss: 1.9759 - char_7_accuracy: 0.2500 - char_7_loss: 1.8374 - loss: 13.0606"
     ]
    },
    {
     "name": "stderr",
     "output_type": "stream",
     "text": [
      "WARNING:absl:You are saving your model as an HDF5 file via `model.save()` or `keras.saving.save_model(model)`. This file format is considered legacy. We recommend using instead the native Keras format, e.g. `model.save('my_model.keras')` or `keras.saving.save_model(model, 'my_model.keras')`. \n"
     ]
    },
    {
     "name": "stdout",
     "output_type": "stream",
     "text": [
      "\u001b[1m1/1\u001b[0m \u001b[32m━━━━━━━━━━━━━━━━━━━━\u001b[0m\u001b[37m\u001b[0m \u001b[1m0s\u001b[0m 286ms/step - char_0_accuracy: 0.3438 - char_0_loss: 1.6540 - char_1_accuracy: 0.3750 - char_1_loss: 1.6965 - char_2_accuracy: 0.2812 - char_2_loss: 1.8188 - char_3_accuracy: 0.3438 - char_3_loss: 1.7010 - char_4_accuracy: 1.0000 - char_4_loss: 1.5292e-04 - char_5_accuracy: 0.1250 - char_5_loss: 2.3768 - char_6_accuracy: 0.2188 - char_6_loss: 1.9759 - char_7_accuracy: 0.2500 - char_7_loss: 1.8374 - loss: 13.0606 - val_char_0_accuracy: 0.3750 - val_char_0_loss: 1.6184 - val_char_1_accuracy: 0.3750 - val_char_1_loss: 1.5222 - val_char_2_accuracy: 0.2500 - val_char_2_loss: 1.7175 - val_char_3_accuracy: 0.3750 - val_char_3_loss: 1.7412 - val_char_4_accuracy: 1.0000 - val_char_4_loss: 1.7352e-04 - val_char_5_accuracy: 0.2500 - val_char_5_loss: 2.2035 - val_char_6_accuracy: 0.3750 - val_char_6_loss: 1.8886 - val_char_7_accuracy: 0.0000e+00 - val_char_7_loss: 2.0153 - val_loss: 12.7070\n",
      "Epoch 27/30\n",
      "\u001b[1m1/1\u001b[0m \u001b[32m━━━━━━━━━━━━━━━━━━━━\u001b[0m\u001b[37m\u001b[0m \u001b[1m0s\u001b[0m 104ms/step - char_0_accuracy: 0.2812 - char_0_loss: 1.7276 - char_1_accuracy: 0.4062 - char_1_loss: 1.6573 - char_2_accuracy: 0.4375 - char_2_loss: 1.5372 - char_3_accuracy: 0.3438 - char_3_loss: 1.6514 - char_4_accuracy: 1.0000 - char_4_loss: 3.1558e-04 - char_5_accuracy: 0.1875 - char_5_loss: 2.1863 - char_6_accuracy: 0.2812 - char_6_loss: 1.9530 - char_7_accuracy: 0.3438 - char_7_loss: 1.8209 - loss: 12.5339"
     ]
    },
    {
     "name": "stderr",
     "output_type": "stream",
     "text": [
      "WARNING:absl:You are saving your model as an HDF5 file via `model.save()` or `keras.saving.save_model(model)`. This file format is considered legacy. We recommend using instead the native Keras format, e.g. `model.save('my_model.keras')` or `keras.saving.save_model(model, 'my_model.keras')`. \n"
     ]
    },
    {
     "name": "stdout",
     "output_type": "stream",
     "text": [
      "\u001b[1m1/1\u001b[0m \u001b[32m━━━━━━━━━━━━━━━━━━━━\u001b[0m\u001b[37m\u001b[0m \u001b[1m0s\u001b[0m 281ms/step - char_0_accuracy: 0.2812 - char_0_loss: 1.7276 - char_1_accuracy: 0.4062 - char_1_loss: 1.6573 - char_2_accuracy: 0.4375 - char_2_loss: 1.5372 - char_3_accuracy: 0.3438 - char_3_loss: 1.6514 - char_4_accuracy: 1.0000 - char_4_loss: 3.1558e-04 - char_5_accuracy: 0.1875 - char_5_loss: 2.1863 - char_6_accuracy: 0.2812 - char_6_loss: 1.9530 - char_7_accuracy: 0.3438 - char_7_loss: 1.8209 - loss: 12.5339 - val_char_0_accuracy: 0.5000 - val_char_0_loss: 1.5862 - val_char_1_accuracy: 0.3750 - val_char_1_loss: 1.4485 - val_char_2_accuracy: 0.2500 - val_char_2_loss: 1.6709 - val_char_3_accuracy: 0.3750 - val_char_3_loss: 1.7136 - val_char_4_accuracy: 1.0000 - val_char_4_loss: 1.0895e-04 - val_char_5_accuracy: 0.2500 - val_char_5_loss: 2.1789 - val_char_6_accuracy: 0.3750 - val_char_6_loss: 1.8272 - val_char_7_accuracy: 0.0000e+00 - val_char_7_loss: 2.0082 - val_loss: 12.4336\n",
      "Epoch 28/30\n",
      "\u001b[1m1/1\u001b[0m \u001b[32m━━━━━━━━━━━━━━━━━━━━\u001b[0m\u001b[37m\u001b[0m \u001b[1m0s\u001b[0m 111ms/step - char_0_accuracy: 0.2188 - char_0_loss: 1.6725 - char_1_accuracy: 0.4062 - char_1_loss: 1.5289 - char_2_accuracy: 0.4688 - char_2_loss: 1.5732 - char_3_accuracy: 0.3438 - char_3_loss: 1.5949 - char_4_accuracy: 1.0000 - char_4_loss: 2.7492e-04 - char_5_accuracy: 0.4062 - char_5_loss: 1.9739 - char_6_accuracy: 0.2188 - char_6_loss: 1.9394 - char_7_accuracy: 0.3438 - char_7_loss: 1.7180 - loss: 12.0011"
     ]
    },
    {
     "name": "stderr",
     "output_type": "stream",
     "text": [
      "WARNING:absl:You are saving your model as an HDF5 file via `model.save()` or `keras.saving.save_model(model)`. This file format is considered legacy. We recommend using instead the native Keras format, e.g. `model.save('my_model.keras')` or `keras.saving.save_model(model, 'my_model.keras')`. \n"
     ]
    },
    {
     "name": "stdout",
     "output_type": "stream",
     "text": [
      "\u001b[1m1/1\u001b[0m \u001b[32m━━━━━━━━━━━━━━━━━━━━\u001b[0m\u001b[37m\u001b[0m \u001b[1m0s\u001b[0m 286ms/step - char_0_accuracy: 0.2188 - char_0_loss: 1.6725 - char_1_accuracy: 0.4062 - char_1_loss: 1.5289 - char_2_accuracy: 0.4688 - char_2_loss: 1.5732 - char_3_accuracy: 0.3438 - char_3_loss: 1.5949 - char_4_accuracy: 1.0000 - char_4_loss: 2.7492e-04 - char_5_accuracy: 0.4062 - char_5_loss: 1.9739 - char_6_accuracy: 0.2188 - char_6_loss: 1.9394 - char_7_accuracy: 0.3438 - char_7_loss: 1.7180 - loss: 12.0011 - val_char_0_accuracy: 0.3750 - val_char_0_loss: 1.5382 - val_char_1_accuracy: 0.3750 - val_char_1_loss: 1.3595 - val_char_2_accuracy: 0.2500 - val_char_2_loss: 1.6281 - val_char_3_accuracy: 0.3750 - val_char_3_loss: 1.6701 - val_char_4_accuracy: 1.0000 - val_char_4_loss: 1.5765e-05 - val_char_5_accuracy: 0.1250 - val_char_5_loss: 2.1321 - val_char_6_accuracy: 0.3750 - val_char_6_loss: 1.7505 - val_char_7_accuracy: 0.5000 - val_char_7_loss: 1.9093 - val_loss: 11.9878\n",
      "Epoch 29/30\n",
      "\u001b[1m1/1\u001b[0m \u001b[32m━━━━━━━━━━━━━━━━━━━━\u001b[0m\u001b[37m\u001b[0m \u001b[1m0s\u001b[0m 107ms/step - char_0_accuracy: 0.3438 - char_0_loss: 1.6136 - char_1_accuracy: 0.3750 - char_1_loss: 1.6672 - char_2_accuracy: 0.3438 - char_2_loss: 1.5257 - char_3_accuracy: 0.3750 - char_3_loss: 1.6259 - char_4_accuracy: 1.0000 - char_4_loss: 6.6434e-05 - char_5_accuracy: 0.3125 - char_5_loss: 2.0816 - char_6_accuracy: 0.3125 - char_6_loss: 1.8656 - char_7_accuracy: 0.4062 - char_7_loss: 1.6091 - loss: 11.9887"
     ]
    },
    {
     "name": "stderr",
     "output_type": "stream",
     "text": [
      "WARNING:absl:You are saving your model as an HDF5 file via `model.save()` or `keras.saving.save_model(model)`. This file format is considered legacy. We recommend using instead the native Keras format, e.g. `model.save('my_model.keras')` or `keras.saving.save_model(model, 'my_model.keras')`. \n"
     ]
    },
    {
     "name": "stdout",
     "output_type": "stream",
     "text": [
      "\u001b[1m1/1\u001b[0m \u001b[32m━━━━━━━━━━━━━━━━━━━━\u001b[0m\u001b[37m\u001b[0m \u001b[1m0s\u001b[0m 282ms/step - char_0_accuracy: 0.3438 - char_0_loss: 1.6136 - char_1_accuracy: 0.3750 - char_1_loss: 1.6672 - char_2_accuracy: 0.3438 - char_2_loss: 1.5257 - char_3_accuracy: 0.3750 - char_3_loss: 1.6259 - char_4_accuracy: 1.0000 - char_4_loss: 6.6434e-05 - char_5_accuracy: 0.3125 - char_5_loss: 2.0816 - char_6_accuracy: 0.3125 - char_6_loss: 1.8656 - char_7_accuracy: 0.4062 - char_7_loss: 1.6091 - loss: 11.9887 - val_char_0_accuracy: 0.3750 - val_char_0_loss: 1.4858 - val_char_1_accuracy: 0.3750 - val_char_1_loss: 1.3266 - val_char_2_accuracy: 0.5000 - val_char_2_loss: 1.5559 - val_char_3_accuracy: 0.5000 - val_char_3_loss: 1.5958 - val_char_4_accuracy: 1.0000 - val_char_4_loss: 1.0282e-05 - val_char_5_accuracy: 0.1250 - val_char_5_loss: 2.0475 - val_char_6_accuracy: 0.5000 - val_char_6_loss: 1.6935 - val_char_7_accuracy: 0.3750 - val_char_7_loss: 1.7616 - val_loss: 11.4666\n",
      "Epoch 30/30\n",
      "\u001b[1m1/1\u001b[0m \u001b[32m━━━━━━━━━━━━━━━━━━━━\u001b[0m\u001b[37m\u001b[0m \u001b[1m0s\u001b[0m 107ms/step - char_0_accuracy: 0.4062 - char_0_loss: 1.4050 - char_1_accuracy: 0.3750 - char_1_loss: 1.6043 - char_2_accuracy: 0.4062 - char_2_loss: 1.4516 - char_3_accuracy: 0.5000 - char_3_loss: 1.3878 - char_4_accuracy: 1.0000 - char_4_loss: 1.7098e-05 - char_5_accuracy: 0.2188 - char_5_loss: 2.0840 - char_6_accuracy: 0.4375 - char_6_loss: 1.6259 - char_7_accuracy: 0.3750 - char_7_loss: 1.5382 - loss: 11.0968"
     ]
    },
    {
     "name": "stderr",
     "output_type": "stream",
     "text": [
      "WARNING:absl:You are saving your model as an HDF5 file via `model.save()` or `keras.saving.save_model(model)`. This file format is considered legacy. We recommend using instead the native Keras format, e.g. `model.save('my_model.keras')` or `keras.saving.save_model(model, 'my_model.keras')`. \n"
     ]
    },
    {
     "name": "stdout",
     "output_type": "stream",
     "text": [
      "\u001b[1m1/1\u001b[0m \u001b[32m━━━━━━━━━━━━━━━━━━━━\u001b[0m\u001b[37m\u001b[0m \u001b[1m0s\u001b[0m 268ms/step - char_0_accuracy: 0.4062 - char_0_loss: 1.4050 - char_1_accuracy: 0.3750 - char_1_loss: 1.6043 - char_2_accuracy: 0.4062 - char_2_loss: 1.4516 - char_3_accuracy: 0.5000 - char_3_loss: 1.3878 - char_4_accuracy: 1.0000 - char_4_loss: 1.7098e-05 - char_5_accuracy: 0.2188 - char_5_loss: 2.0840 - char_6_accuracy: 0.4375 - char_6_loss: 1.6259 - char_7_accuracy: 0.3750 - char_7_loss: 1.5382 - loss: 11.0968 - val_char_0_accuracy: 0.7500 - val_char_0_loss: 1.3966 - val_char_1_accuracy: 0.5000 - val_char_1_loss: 1.2831 - val_char_2_accuracy: 0.3750 - val_char_2_loss: 1.4323 - val_char_3_accuracy: 0.5000 - val_char_3_loss: 1.4671 - val_char_4_accuracy: 1.0000 - val_char_4_loss: 1.5720e-05 - val_char_5_accuracy: 0.2500 - val_char_5_loss: 1.9605 - val_char_6_accuracy: 0.3750 - val_char_6_loss: 1.6438 - val_char_7_accuracy: 0.6250 - val_char_7_loss: 1.5720 - val_loss: 10.7554\n"
     ]
    }
   ],
   "source": [
    "# Entrenar el modelo\n",
    "# Preparar las etiquetas para cada salida\n",
    "y_train_outputs = [y_train[:, i, :] for i in range(MAX_LENGTH)]\n",
    "y_val_outputs = [y_val[:, i, :] for i in range(MAX_LENGTH)]\n",
    "\n",
    "# Definir callbacks\n",
    "checkpoint_cb = tf.keras.callbacks.ModelCheckpoint(\n",
    "    \"mejor_modelo_ocr.h5\",\n",
    "    monitor='val_loss',\n",
    "    save_best_only=True\n",
    ")\n",
    "\n",
    "early_stopping_cb = tf.keras.callbacks.EarlyStopping(\n",
    "    monitor='val_loss',\n",
    "    patience=10,\n",
    "    restore_best_weights=True\n",
    ")\n",
    "\n",
    "# Entrenar el modelo\n",
    "history = model.fit(\n",
    "    X_train, y_train_outputs,\n",
    "    validation_data=(X_val, y_val_outputs),\n",
    "    epochs=EPOCHS,\n",
    "    batch_size=BATCH_SIZE,\n",
    "    callbacks=[checkpoint_cb, early_stopping_cb]\n",
    ")"
   ]
  },
  {
   "cell_type": "markdown",
   "metadata": {},
   "source": [
    "# Evaluar el Modelo\n",
    "Evaluar el modelo en el conjunto de prueba y mostrar métricas como precisión para cada carácter y precisión promedio."
   ]
  },
  {
   "cell_type": "code",
   "execution_count": 6,
   "metadata": {},
   "outputs": [
    {
     "name": "stdout",
     "output_type": "stream",
     "text": [
      "\u001b[1m1/1\u001b[0m \u001b[32m━━━━━━━━━━━━━━━━━━━━\u001b[0m\u001b[37m\u001b[0m \u001b[1m0s\u001b[0m 48ms/step - char_0_accuracy: 0.4000 - char_0_loss: 1.5835 - char_1_accuracy: 0.1000 - char_1_loss: 2.0113 - char_2_accuracy: 0.5000 - char_2_loss: 1.3854 - char_3_accuracy: 0.5000 - char_3_loss: 1.4279 - char_4_accuracy: 1.0000 - char_4_loss: 6.4611e-06 - char_5_accuracy: 0.2000 - char_5_loss: 2.1181 - char_6_accuracy: 0.4000 - char_6_loss: 1.5146 - char_7_accuracy: 0.2000 - char_7_loss: 1.6519 - loss: 11.6927\n",
      "Resultados de evaluación:\n",
      "Precisión carácter 1: 1.6519\n",
      "Precisión carácter 2: 0.4000\n",
      "Precisión carácter 3: 0.1000\n",
      "Precisión carácter 4: 0.5000\n",
      "Precisión carácter 5: 0.5000\n",
      "Precisión carácter 6: 1.0000\n",
      "Precisión carácter 7: 0.2000\n",
      "Precisión carácter 8: 0.4000\n",
      "Precisión carácter 9: 0.2000\n",
      "Precisión promedio: 0.6190\n",
      "\u001b[1m1/1\u001b[0m \u001b[32m━━━━━━━━━━━━━━━━━━━━\u001b[0m\u001b[37m\u001b[0m \u001b[1m0s\u001b[0m 102ms/step\n",
      "Real: 9692 DRB, Predicción: 9512 JYW\n",
      "\u001b[1m1/1\u001b[0m \u001b[32m━━━━━━━━━━━━━━━━━━━━\u001b[0m\u001b[37m\u001b[0m \u001b[1m0s\u001b[0m 24ms/step\n",
      "Real: 6104 LNW, Predicción: 9531 JSW\n",
      "\u001b[1m1/1\u001b[0m \u001b[32m━━━━━━━━━━━━━━━━━━━━\u001b[0m\u001b[37m\u001b[0m \u001b[1m0s\u001b[0m 24ms/step\n",
      "Real: 7317 RYG, Predicción: 9512 JYW\n",
      "\u001b[1m1/1\u001b[0m \u001b[32m━━━━━━━━━━━━━━━━━━━━\u001b[0m\u001b[37m\u001b[0m \u001b[1m0s\u001b[0m 22ms/step\n",
      "Real: 3558 QYV, Predicción: 3512 WSW\n",
      "\u001b[1m1/1\u001b[0m \u001b[32m━━━━━━━━━━━━━━━━━━━━\u001b[0m\u001b[37m\u001b[0m \u001b[1m0s\u001b[0m 23ms/step\n",
      "Real: 5231 WNT, Predicción: 9531 WNK\n",
      "\u001b[1m1/1\u001b[0m \u001b[32m━━━━━━━━━━━━━━━━━━━━\u001b[0m\u001b[37m\u001b[0m \u001b[1m0s\u001b[0m 24ms/step\n",
      "Real: 5231 WNT, Predicción: 9531 WNK\n",
      "\u001b[1m1/1\u001b[0m \u001b[32m━━━━━━━━━━━━━━━━━━━━\u001b[0m\u001b[37m\u001b[0m \u001b[1m0s\u001b[0m 23ms/step\n",
      "Real: 9942 NGG, Predicción: 9512 JYW\n",
      "\u001b[1m1/1\u001b[0m \u001b[32m━━━━━━━━━━━━━━━━━━━━\u001b[0m\u001b[37m\u001b[0m \u001b[1m0s\u001b[0m 23ms/step\n",
      "Real: 9942 NGG, Predicción: 9542 JYW\n",
      "\u001b[1m1/1\u001b[0m \u001b[32m━━━━━━━━━━━━━━━━━━━━\u001b[0m\u001b[37m\u001b[0m \u001b[1m0s\u001b[0m 22ms/step\n",
      "Real: 7317 RYG, Predicción: 9512 JYW\n",
      "\u001b[1m1/1\u001b[0m \u001b[32m━━━━━━━━━━━━━━━━━━━━\u001b[0m\u001b[37m\u001b[0m \u001b[1m0s\u001b[0m 24ms/step\n",
      "Real: 6104 LNW, Predicción: 9531 WSW\n"
     ]
    }
   ],
   "source": [
    "# Evaluar el modelo en el conjunto de prueba\n",
    "y_test_outputs = [y_test[:, i, :] for i in range(MAX_LENGTH)]\n",
    "\n",
    "# Evaluar el modelo y mostrar métricas\n",
    "results = model.evaluate(X_test, y_test_outputs, verbose=1)\n",
    "\n",
    "print(\"Resultados de evaluación:\")\n",
    "total_accuracy = 0\n",
    "for i, result in enumerate(results[MAX_LENGTH:]):  # Saltar las pérdidas\n",
    "    print(f\"Precisión carácter {i+1}: {result:.4f}\")\n",
    "    total_accuracy += result\n",
    "\n",
    "print(f\"Precisión promedio: {total_accuracy / MAX_LENGTH:.4f}\")\n",
    "\n",
    "# Mostrar algunas predicciones\n",
    "n_samples = min(10, len(X_test))\n",
    "indices = np.random.choice(len(X_test), n_samples, replace=False)\n",
    "\n",
    "for idx in indices:\n",
    "    img = X_test[idx]\n",
    "    true_label = \"\"\n",
    "    for i in range(MAX_LENGTH):\n",
    "        true_idx = np.argmax(y_test[idx, i])\n",
    "        true_label += INDEX_TO_CHAR[true_idx]\n",
    "\n",
    "    # Realizar predicción\n",
    "    img_batch = np.expand_dims(img, axis=0)  # Añadir dimensión de batch\n",
    "    predictions = model.predict(img_batch)\n",
    "    pred_label = \"\"\n",
    "    for pred in predictions:\n",
    "        char_idx = np.argmax(pred[0])\n",
    "        pred_label += INDEX_TO_CHAR[char_idx]\n",
    "\n",
    "    print(f\"Real: {true_label}, Predicción: {pred_label}\")"
   ]
  },
  {
   "cell_type": "markdown",
   "metadata": {},
   "source": [
    "# Guardar el Modelo\n",
    "Guardar el modelo entrenado en un archivo .h5 para su uso posterior."
   ]
  },
  {
   "cell_type": "code",
   "execution_count": null,
   "metadata": {},
   "outputs": [],
   "source": [
    "# Guardar el modelo entrenado en un archivo .h5\n",
    "modelo_path = \"modelo_ocr.h5\"\n",
    "model.save(modelo_path)\n",
    "print(f\"Modelo guardado en: {modelo_path}\")"
   ]
  },
  {
   "cell_type": "markdown",
   "metadata": {},
   "source": [
    "# Visualizar Curvas de Entrenamiento\n",
    "Generar gráficos de pérdida y precisión para los datos de entrenamiento y validación."
   ]
  },
  {
   "cell_type": "code",
   "execution_count": 7,
   "metadata": {},
   "outputs": [
    {
     "data": {
      "image/png": "[encoded data removed]",
      "text/plain": [
       "<Figure size 1200x400 with 2 Axes>"
      ]
     },
     "metadata": {},
     "output_type": "display_data"
    }
   ],
   "source": [
    "# Visualizar curvas de entrenamiento\n",
    "def mostrar_curvas_entrenamiento(history):\n",
    "    \"\"\"Genera gráficos de pérdida y precisión para los datos de entrenamiento y validación.\"\"\"\n",
    "    # Extraer las métricas de la primera salida como ejemplo\n",
    "    loss = history.history['char_0_loss']\n",
    "    val_loss = history.history['val_char_0_loss']\n",
    "    acc = history.history['char_0_accuracy']\n",
    "    val_acc = history.history['val_char_0_accuracy']\n",
    "    \n",
    "    # Crear gráficos\n",
    "    plt.figure(figsize=(12, 4))\n",
    "    \n",
    "    # Gráfico de pérdida\n",
    "    plt.subplot(1, 2, 1)\n",
    "    plt.plot(loss, label='Entrenamiento')\n",
    "    plt.plot(val_loss, label='Validación')\n",
    "    plt.title('Pérdida')\n",
    "    plt.xlabel('Épocas')\n",
    "    plt.ylabel('Pérdida')\n",
    "    plt.legend()\n",
    "    \n",
    "    # Gráfico de precisión\n",
    "    plt.subplot(1, 2, 2)\n",
    "    plt.plot(acc, label='Entrenamiento')\n",
    "    plt.plot(val_acc, label='Validación')\n",
    "    plt.title('Precisión')\n",
    "    plt.xlabel('Épocas')\n",
    "    plt.ylabel('Precisión')\n",
    "    plt.legend()\n",
    "    \n",
    "    # Mostrar los gráficos\n",
    "    plt.tight_layout()\n",
    "    plt.show()\n",
    "\n",
    "# Llamar a la función para mostrar las curvas de entrenamiento\n",
    "mostrar_curvas_entrenamiento(history)"
   ]
  },
  {
   "cell_type": "markdown",
   "metadata": {},
   "source": [
    "# Realizar Predicciones\n",
    "Utilizar el modelo entrenado para predecir matrículas a partir de imágenes de prueba y comparar con las etiquetas reales."
   ]
  },
  {
   "cell_type": "code",
   "execution_count": null,
   "metadata": {},
   "outputs": [],
   "source": [
    "# Realizar predicciones con el modelo entrenado\n",
    "n_samples = min(10, len(X_test))  # Número de muestras a predecir\n",
    "indices = np.random.choice(len(X_test), n_samples, replace=False)  # Seleccionar índices aleatorios\n",
    "\n",
    "for idx in indices:\n",
    "    img = X_test[idx]  # Imagen de prueba\n",
    "    true_label = \"\"  # Etiqueta real\n",
    "    for i in range(MAX_LENGTH):\n",
    "        true_idx = np.argmax(y_test[idx, i])  # Índice del carácter real\n",
    "        true_label += INDEX_TO_CHAR[true_idx]  # Convertir índice a carácter\n",
    "\n",
    "    # Realizar predicción\n",
    "    img_batch = np.expand_dims(img, axis=0)  # Añadir dimensión de batch\n",
    "    predictions = model.predict(img_batch)  # Predicción del modelo\n",
    "    pred_label = \"\"  # Etiqueta predicha\n",
    "    for pred in predictions:\n",
    "        char_idx = np.argmax(pred[0])  # Índice del carácter predicho\n",
    "        pred_label += INDEX_TO_CHAR[char_idx]  # Convertir índice a carácter\n",
    "\n",
    "    # Mostrar resultados\n",
    "    print(f\"Real: {true_label}, Predicción: {pred_label}\")"
   ]
  }
 ],
 "metadata": {
  "kernelspec": {
   "display_name": ".venv",
   "language": "python",
   "name": "python3"
  },
  "language_info": {
   "codemirror_mode": {
    "name": "ipython",
    "version": 3
   },
   "file_extension": ".py",
   "mimetype": "text/x-python",
   "name": "python",
   "nbconvert_exporter": "python",
   "pygments_lexer": "ipython3",
   "version": "3.12.9"
  }
 },
 "nbformat": 4,
 "nbformat_minor": 2
}
